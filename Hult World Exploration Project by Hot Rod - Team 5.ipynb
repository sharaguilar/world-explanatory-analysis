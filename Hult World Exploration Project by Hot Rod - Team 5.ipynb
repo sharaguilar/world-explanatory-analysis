{
 "cells": [
  {
   "cell_type": "markdown",
   "metadata": {},
   "source": [
    "# Team 5 - Data Analysis for North America and parts of Latin America\n",
    "\n",
    "In this assignment, we were tasked with conducting an analysis utilizing data from the World Bank.\n",
    "- Conduct an exploratory data analysis using Python\n",
    "- Develop a strategy for missing values and potential outliers\n",
    "- Find and present outliers\n",
    "- 9-12 minute presentation on their findings\n",
    "\n",
    "Our countries include - Belize, Bermuda, Canada, Costa Rica, El Salvador, Guatemala, Honduras, Mexico, Nicaragua, Panama and United States."
   ]
  },
  {
   "cell_type": "markdown",
   "metadata": {},
   "source": [
    "## Import and read data\n",
    "File is read into Jupyter as a whole, and a subset dataframe will be created using our 'cool name' code = hot_rod. We will use the hot_rod dataframe throughout the rest of the assignment when referencing."
   ]
  },
  {
   "cell_type": "code",
   "execution_count": 1,
   "metadata": {
    "code_folding": []
   },
   "outputs": [],
   "source": [
    "# Importing all necessary packages\n",
    "\n",
    "import pandas as pd\n",
    "import numpy as np\n",
    "import matplotlib.pyplot as plt\n",
    "import seaborn as sns"
   ]
  },
  {
   "cell_type": "code",
   "execution_count": 2,
   "metadata": {
    "code_folding": []
   },
   "outputs": [],
   "source": [
    "# Reading our Excel Data Sheets\n",
    "\n",
    "# Master Data File \n",
    "# Sheets: Raw, Raw Pivot, Assignment, Assignment Pivot\n",
    "# Change index number to the 'Country Code'\n",
    "file_wdiw = \"WDIW.xlsx\"\n",
    "wdiw      = pd.read_excel(file_wdiw, index_col = 'Country Code')\n",
    "\n",
    "# Meta Data File \n",
    "# Sheets: Series - Metadata, Country - Metadata, Country-Series - Metadata, Series-Time - Metadata, FootNote\n",
    "\n",
    "file_wdimeta = \"WDI_Metadata.xlsx\"     \n",
    "wdimeta      = pd.read_excel(file_wdimeta)   # Reads Sheet: Series - Metadata\n",
    "\n",
    "# Interesting Data Sheets from Meta Data : Country - Metadata, FootNote\n",
    "\n",
    "wdimeta_country  = pd.read_excel(file_wdimeta, \"Country - Metadata\")\n",
    "wdimeta_footnote = pd.read_excel(file_wdimeta, \"FootNote\")"
   ]
  },
  {
   "cell_type": "code",
   "execution_count": 3,
   "metadata": {
    "code_folding": [],
    "scrolled": true
   },
   "outputs": [
    {
     "data": {
      "text/html": [
       "<div>\n",
       "<style scoped>\n",
       "    .dataframe tbody tr th:only-of-type {\n",
       "        vertical-align: middle;\n",
       "    }\n",
       "\n",
       "    .dataframe tbody tr th {\n",
       "        vertical-align: top;\n",
       "    }\n",
       "\n",
       "    .dataframe thead th {\n",
       "        text-align: right;\n",
       "    }\n",
       "</style>\n",
       "<table border=\"1\" class=\"dataframe\">\n",
       "  <thead>\n",
       "    <tr style=\"text-align: right;\">\n",
       "      <th></th>\n",
       "      <th>Country Name</th>\n",
       "      <th>Counter</th>\n",
       "      <th>Hult Region</th>\n",
       "      <th>Cool Name</th>\n",
       "      <th>Access to electricity (% of population)</th>\n",
       "      <th>Access to electricity, rural (% of rural population)</th>\n",
       "      <th>Access to electricity, urban (% of urban population)</th>\n",
       "      <th>Adolescent fertility rate (births per 1,000 women ages 15-19)</th>\n",
       "      <th>Age dependency ratio (% of working-age population)</th>\n",
       "      <th>Age dependency ratio, old (% of working-age population)</th>\n",
       "      <th>...</th>\n",
       "      <th>Poverty headcount ratio at national poverty lines (% of population)</th>\n",
       "      <th>Prevalence of HIV, total (% of population ages 15-49)</th>\n",
       "      <th>Prevalence of undernourishment (% of population)</th>\n",
       "      <th>Prevalence of underweight, weight for age (% of children under 5)</th>\n",
       "      <th>Rural population (% of total population)</th>\n",
       "      <th>Services, value added (% of GDP)</th>\n",
       "      <th>Surface area (sq. km)</th>\n",
       "      <th>Tax revenue (% of GDP)</th>\n",
       "      <th>Urban population (% of total population)</th>\n",
       "      <th>Urban population growth (annual %)</th>\n",
       "    </tr>\n",
       "    <tr>\n",
       "      <th>Country Code</th>\n",
       "      <th></th>\n",
       "      <th></th>\n",
       "      <th></th>\n",
       "      <th></th>\n",
       "      <th></th>\n",
       "      <th></th>\n",
       "      <th></th>\n",
       "      <th></th>\n",
       "      <th></th>\n",
       "      <th></th>\n",
       "      <th></th>\n",
       "      <th></th>\n",
       "      <th></th>\n",
       "      <th></th>\n",
       "      <th></th>\n",
       "      <th></th>\n",
       "      <th></th>\n",
       "      <th></th>\n",
       "      <th></th>\n",
       "      <th></th>\n",
       "      <th></th>\n",
       "    </tr>\n",
       "  </thead>\n",
       "  <tbody>\n",
       "    <tr>\n",
       "      <td>BLZ</td>\n",
       "      <td>Belize</td>\n",
       "      <td>3</td>\n",
       "      <td>North America &amp; Part of Latin America</td>\n",
       "      <td>Hot Rod</td>\n",
       "      <td>98.265121</td>\n",
       "      <td>98.341982</td>\n",
       "      <td>98.173431</td>\n",
       "      <td>68.487</td>\n",
       "      <td>55.085473</td>\n",
       "      <td>7.158540</td>\n",
       "      <td>...</td>\n",
       "      <td>NaN</td>\n",
       "      <td>1.9</td>\n",
       "      <td>7.5</td>\n",
       "      <td>NaN</td>\n",
       "      <td>54.399</td>\n",
       "      <td>62.906209</td>\n",
       "      <td>22970.0</td>\n",
       "      <td>25.970056</td>\n",
       "      <td>45.601</td>\n",
       "      <td>2.212754</td>\n",
       "    </tr>\n",
       "    <tr>\n",
       "      <td>BMU</td>\n",
       "      <td>Bermuda</td>\n",
       "      <td>3</td>\n",
       "      <td>North America &amp; Part of Latin America</td>\n",
       "      <td>Hot Rod</td>\n",
       "      <td>100.000000</td>\n",
       "      <td>100.000000</td>\n",
       "      <td>100.000000</td>\n",
       "      <td>NaN</td>\n",
       "      <td>NaN</td>\n",
       "      <td>NaN</td>\n",
       "      <td>...</td>\n",
       "      <td>NaN</td>\n",
       "      <td>NaN</td>\n",
       "      <td>NaN</td>\n",
       "      <td>NaN</td>\n",
       "      <td>NaN</td>\n",
       "      <td>NaN</td>\n",
       "      <td>4290.0</td>\n",
       "      <td>NaN</td>\n",
       "      <td>100.000</td>\n",
       "      <td>-1.060518</td>\n",
       "    </tr>\n",
       "    <tr>\n",
       "      <td>CAN</td>\n",
       "      <td>Canada</td>\n",
       "      <td>3</td>\n",
       "      <td>North America &amp; Part of Latin America</td>\n",
       "      <td>Hot Rod</td>\n",
       "      <td>100.000000</td>\n",
       "      <td>100.000000</td>\n",
       "      <td>100.000000</td>\n",
       "      <td>8.387</td>\n",
       "      <td>48.616079</td>\n",
       "      <td>25.030652</td>\n",
       "      <td>...</td>\n",
       "      <td>NaN</td>\n",
       "      <td>NaN</td>\n",
       "      <td>2.5</td>\n",
       "      <td>NaN</td>\n",
       "      <td>18.650</td>\n",
       "      <td>NaN</td>\n",
       "      <td>9984670.0</td>\n",
       "      <td>12.521239</td>\n",
       "      <td>81.350</td>\n",
       "      <td>1.247407</td>\n",
       "    </tr>\n",
       "    <tr>\n",
       "      <td>CRI</td>\n",
       "      <td>Costa Rica</td>\n",
       "      <td>3</td>\n",
       "      <td>North America &amp; Part of Latin America</td>\n",
       "      <td>Hot Rod</td>\n",
       "      <td>99.600000</td>\n",
       "      <td>98.867164</td>\n",
       "      <td>99.800000</td>\n",
       "      <td>53.460</td>\n",
       "      <td>44.566920</td>\n",
       "      <td>13.373178</td>\n",
       "      <td>...</td>\n",
       "      <td>20.0</td>\n",
       "      <td>0.4</td>\n",
       "      <td>4.8</td>\n",
       "      <td>NaN</td>\n",
       "      <td>21.440</td>\n",
       "      <td>68.065397</td>\n",
       "      <td>51100.0</td>\n",
       "      <td>13.777171</td>\n",
       "      <td>78.560</td>\n",
       "      <td>2.083381</td>\n",
       "    </tr>\n",
       "    <tr>\n",
       "      <td>SLV</td>\n",
       "      <td>El Salvador</td>\n",
       "      <td>3</td>\n",
       "      <td>North America &amp; Part of Latin America</td>\n",
       "      <td>Hot Rod</td>\n",
       "      <td>99.490387</td>\n",
       "      <td>100.000000</td>\n",
       "      <td>98.841156</td>\n",
       "      <td>69.459</td>\n",
       "      <td>55.159853</td>\n",
       "      <td>12.575262</td>\n",
       "      <td>...</td>\n",
       "      <td>29.2</td>\n",
       "      <td>0.6</td>\n",
       "      <td>9.0</td>\n",
       "      <td>NaN</td>\n",
       "      <td>28.725</td>\n",
       "      <td>60.665349</td>\n",
       "      <td>21040.0</td>\n",
       "      <td>17.790230</td>\n",
       "      <td>71.275</td>\n",
       "      <td>1.593742</td>\n",
       "    </tr>\n",
       "    <tr>\n",
       "      <td>GTM</td>\n",
       "      <td>Guatemala</td>\n",
       "      <td>3</td>\n",
       "      <td>North America &amp; Part of Latin America</td>\n",
       "      <td>Hot Rod</td>\n",
       "      <td>93.288094</td>\n",
       "      <td>89.320689</td>\n",
       "      <td>97.149033</td>\n",
       "      <td>70.930</td>\n",
       "      <td>65.967416</td>\n",
       "      <td>7.794356</td>\n",
       "      <td>...</td>\n",
       "      <td>NaN</td>\n",
       "      <td>0.4</td>\n",
       "      <td>15.2</td>\n",
       "      <td>NaN</td>\n",
       "      <td>49.320</td>\n",
       "      <td>62.137976</td>\n",
       "      <td>108890.0</td>\n",
       "      <td>NaN</td>\n",
       "      <td>50.680</td>\n",
       "      <td>2.696399</td>\n",
       "    </tr>\n",
       "    <tr>\n",
       "      <td>HND</td>\n",
       "      <td>Honduras</td>\n",
       "      <td>3</td>\n",
       "      <td>North America &amp; Part of Latin America</td>\n",
       "      <td>Hot Rod</td>\n",
       "      <td>86.500000</td>\n",
       "      <td>71.848641</td>\n",
       "      <td>97.800000</td>\n",
       "      <td>72.912</td>\n",
       "      <td>58.493475</td>\n",
       "      <td>7.228614</td>\n",
       "      <td>...</td>\n",
       "      <td>64.3</td>\n",
       "      <td>0.3</td>\n",
       "      <td>12.9</td>\n",
       "      <td>NaN</td>\n",
       "      <td>43.543</td>\n",
       "      <td>56.824489</td>\n",
       "      <td>112490.0</td>\n",
       "      <td>NaN</td>\n",
       "      <td>56.457</td>\n",
       "      <td>2.839475</td>\n",
       "    </tr>\n",
       "    <tr>\n",
       "      <td>MEX</td>\n",
       "      <td>Mexico</td>\n",
       "      <td>3</td>\n",
       "      <td>North America &amp; Part of Latin America</td>\n",
       "      <td>Hot Rod</td>\n",
       "      <td>100.000000</td>\n",
       "      <td>100.000000</td>\n",
       "      <td>100.000000</td>\n",
       "      <td>60.365</td>\n",
       "      <td>51.469241</td>\n",
       "      <td>10.664602</td>\n",
       "      <td>...</td>\n",
       "      <td>NaN</td>\n",
       "      <td>0.2</td>\n",
       "      <td>3.6</td>\n",
       "      <td>NaN</td>\n",
       "      <td>20.133</td>\n",
       "      <td>60.366156</td>\n",
       "      <td>1964375.0</td>\n",
       "      <td>13.043359</td>\n",
       "      <td>79.867</td>\n",
       "      <td>1.527732</td>\n",
       "    </tr>\n",
       "    <tr>\n",
       "      <td>NIC</td>\n",
       "      <td>Nicaragua</td>\n",
       "      <td>3</td>\n",
       "      <td>North America &amp; Part of Latin America</td>\n",
       "      <td>Hot Rod</td>\n",
       "      <td>86.767799</td>\n",
       "      <td>68.488026</td>\n",
       "      <td>99.843231</td>\n",
       "      <td>84.990</td>\n",
       "      <td>55.281150</td>\n",
       "      <td>7.845245</td>\n",
       "      <td>...</td>\n",
       "      <td>NaN</td>\n",
       "      <td>0.2</td>\n",
       "      <td>17.0</td>\n",
       "      <td>NaN</td>\n",
       "      <td>41.701</td>\n",
       "      <td>50.131677</td>\n",
       "      <td>130370.0</td>\n",
       "      <td>16.504696</td>\n",
       "      <td>58.299</td>\n",
       "      <td>1.634020</td>\n",
       "    </tr>\n",
       "    <tr>\n",
       "      <td>PAN</td>\n",
       "      <td>Panama</td>\n",
       "      <td>3</td>\n",
       "      <td>North America &amp; Part of Latin America</td>\n",
       "      <td>Hot Rod</td>\n",
       "      <td>100.000000</td>\n",
       "      <td>100.000000</td>\n",
       "      <td>100.000000</td>\n",
       "      <td>81.828</td>\n",
       "      <td>54.438715</td>\n",
       "      <td>12.215968</td>\n",
       "      <td>...</td>\n",
       "      <td>NaN</td>\n",
       "      <td>0.9</td>\n",
       "      <td>10.0</td>\n",
       "      <td>NaN</td>\n",
       "      <td>32.635</td>\n",
       "      <td>64.649716</td>\n",
       "      <td>75420.0</td>\n",
       "      <td>NaN</td>\n",
       "      <td>67.365</td>\n",
       "      <td>2.214598</td>\n",
       "    </tr>\n",
       "    <tr>\n",
       "      <td>USA</td>\n",
       "      <td>United States</td>\n",
       "      <td>3</td>\n",
       "      <td>North America &amp; Part of Latin America</td>\n",
       "      <td>Hot Rod</td>\n",
       "      <td>100.000000</td>\n",
       "      <td>100.000000</td>\n",
       "      <td>100.000000</td>\n",
       "      <td>19.860</td>\n",
       "      <td>52.155805</td>\n",
       "      <td>23.461460</td>\n",
       "      <td>...</td>\n",
       "      <td>NaN</td>\n",
       "      <td>NaN</td>\n",
       "      <td>2.5</td>\n",
       "      <td>NaN</td>\n",
       "      <td>17.942</td>\n",
       "      <td>77.374532</td>\n",
       "      <td>9831510.0</td>\n",
       "      <td>11.947411</td>\n",
       "      <td>82.058</td>\n",
       "      <td>0.879600</td>\n",
       "    </tr>\n",
       "  </tbody>\n",
       "</table>\n",
       "<p>11 rows × 67 columns</p>\n",
       "</div>"
      ],
      "text/plain": [
       "               Country Name Counter                            Hult Region  \\\n",
       "Country Code                                                                 \n",
       "BLZ                  Belize       3  North America & Part of Latin America   \n",
       "BMU                 Bermuda       3  North America & Part of Latin America   \n",
       "CAN                  Canada       3  North America & Part of Latin America   \n",
       "CRI              Costa Rica       3  North America & Part of Latin America   \n",
       "SLV             El Salvador       3  North America & Part of Latin America   \n",
       "GTM               Guatemala       3  North America & Part of Latin America   \n",
       "HND                Honduras       3  North America & Part of Latin America   \n",
       "MEX                  Mexico       3  North America & Part of Latin America   \n",
       "NIC               Nicaragua       3  North America & Part of Latin America   \n",
       "PAN                  Panama       3  North America & Part of Latin America   \n",
       "USA           United States       3  North America & Part of Latin America   \n",
       "\n",
       "             Cool Name  Access to electricity (% of population)  \\\n",
       "Country Code                                                      \n",
       "BLZ            Hot Rod                                98.265121   \n",
       "BMU            Hot Rod                               100.000000   \n",
       "CAN            Hot Rod                               100.000000   \n",
       "CRI            Hot Rod                                99.600000   \n",
       "SLV            Hot Rod                                99.490387   \n",
       "GTM            Hot Rod                                93.288094   \n",
       "HND            Hot Rod                                86.500000   \n",
       "MEX            Hot Rod                               100.000000   \n",
       "NIC            Hot Rod                                86.767799   \n",
       "PAN            Hot Rod                               100.000000   \n",
       "USA            Hot Rod                               100.000000   \n",
       "\n",
       "              Access to electricity, rural (% of rural population)  \\\n",
       "Country Code                                                         \n",
       "BLZ                                                   98.341982      \n",
       "BMU                                                  100.000000      \n",
       "CAN                                                  100.000000      \n",
       "CRI                                                   98.867164      \n",
       "SLV                                                  100.000000      \n",
       "GTM                                                   89.320689      \n",
       "HND                                                   71.848641      \n",
       "MEX                                                  100.000000      \n",
       "NIC                                                   68.488026      \n",
       "PAN                                                  100.000000      \n",
       "USA                                                  100.000000      \n",
       "\n",
       "              Access to electricity, urban (% of urban population)  \\\n",
       "Country Code                                                         \n",
       "BLZ                                                   98.173431      \n",
       "BMU                                                  100.000000      \n",
       "CAN                                                  100.000000      \n",
       "CRI                                                   99.800000      \n",
       "SLV                                                   98.841156      \n",
       "GTM                                                   97.149033      \n",
       "HND                                                   97.800000      \n",
       "MEX                                                  100.000000      \n",
       "NIC                                                   99.843231      \n",
       "PAN                                                  100.000000      \n",
       "USA                                                  100.000000      \n",
       "\n",
       "              Adolescent fertility rate (births per 1,000 women ages 15-19)  \\\n",
       "Country Code                                                                  \n",
       "BLZ                                                      68.487               \n",
       "BMU                                                         NaN               \n",
       "CAN                                                       8.387               \n",
       "CRI                                                      53.460               \n",
       "SLV                                                      69.459               \n",
       "GTM                                                      70.930               \n",
       "HND                                                      72.912               \n",
       "MEX                                                      60.365               \n",
       "NIC                                                      84.990               \n",
       "PAN                                                      81.828               \n",
       "USA                                                      19.860               \n",
       "\n",
       "              Age dependency ratio (% of working-age population)  \\\n",
       "Country Code                                                       \n",
       "BLZ                                                   55.085473    \n",
       "BMU                                                         NaN    \n",
       "CAN                                                   48.616079    \n",
       "CRI                                                   44.566920    \n",
       "SLV                                                   55.159853    \n",
       "GTM                                                   65.967416    \n",
       "HND                                                   58.493475    \n",
       "MEX                                                   51.469241    \n",
       "NIC                                                   55.281150    \n",
       "PAN                                                   54.438715    \n",
       "USA                                                   52.155805    \n",
       "\n",
       "              Age dependency ratio, old (% of working-age population)  ...  \\\n",
       "Country Code                                                           ...   \n",
       "BLZ                                                    7.158540        ...   \n",
       "BMU                                                         NaN        ...   \n",
       "CAN                                                   25.030652        ...   \n",
       "CRI                                                   13.373178        ...   \n",
       "SLV                                                   12.575262        ...   \n",
       "GTM                                                    7.794356        ...   \n",
       "HND                                                    7.228614        ...   \n",
       "MEX                                                   10.664602        ...   \n",
       "NIC                                                    7.845245        ...   \n",
       "PAN                                                   12.215968        ...   \n",
       "USA                                                   23.461460        ...   \n",
       "\n",
       "              Poverty headcount ratio at national poverty lines (% of population)  \\\n",
       "Country Code                                                                        \n",
       "BLZ                                                         NaN                     \n",
       "BMU                                                         NaN                     \n",
       "CAN                                                         NaN                     \n",
       "CRI                                                        20.0                     \n",
       "SLV                                                        29.2                     \n",
       "GTM                                                         NaN                     \n",
       "HND                                                        64.3                     \n",
       "MEX                                                         NaN                     \n",
       "NIC                                                         NaN                     \n",
       "PAN                                                         NaN                     \n",
       "USA                                                         NaN                     \n",
       "\n",
       "              Prevalence of HIV, total (% of population ages 15-49)  \\\n",
       "Country Code                                                          \n",
       "BLZ                                                         1.9       \n",
       "BMU                                                         NaN       \n",
       "CAN                                                         NaN       \n",
       "CRI                                                         0.4       \n",
       "SLV                                                         0.6       \n",
       "GTM                                                         0.4       \n",
       "HND                                                         0.3       \n",
       "MEX                                                         0.2       \n",
       "NIC                                                         0.2       \n",
       "PAN                                                         0.9       \n",
       "USA                                                         NaN       \n",
       "\n",
       "              Prevalence of undernourishment (% of population)  \\\n",
       "Country Code                                                     \n",
       "BLZ                                                        7.5   \n",
       "BMU                                                        NaN   \n",
       "CAN                                                        2.5   \n",
       "CRI                                                        4.8   \n",
       "SLV                                                        9.0   \n",
       "GTM                                                       15.2   \n",
       "HND                                                       12.9   \n",
       "MEX                                                        3.6   \n",
       "NIC                                                       17.0   \n",
       "PAN                                                       10.0   \n",
       "USA                                                        2.5   \n",
       "\n",
       "              Prevalence of underweight, weight for age (% of children under 5)  \\\n",
       "Country Code                                                                      \n",
       "BLZ                                                         NaN                   \n",
       "BMU                                                         NaN                   \n",
       "CAN                                                         NaN                   \n",
       "CRI                                                         NaN                   \n",
       "SLV                                                         NaN                   \n",
       "GTM                                                         NaN                   \n",
       "HND                                                         NaN                   \n",
       "MEX                                                         NaN                   \n",
       "NIC                                                         NaN                   \n",
       "PAN                                                         NaN                   \n",
       "USA                                                         NaN                   \n",
       "\n",
       "              Rural population (% of total population)  \\\n",
       "Country Code                                             \n",
       "BLZ                                             54.399   \n",
       "BMU                                                NaN   \n",
       "CAN                                             18.650   \n",
       "CRI                                             21.440   \n",
       "SLV                                             28.725   \n",
       "GTM                                             49.320   \n",
       "HND                                             43.543   \n",
       "MEX                                             20.133   \n",
       "NIC                                             41.701   \n",
       "PAN                                             32.635   \n",
       "USA                                             17.942   \n",
       "\n",
       "              Services, value added (% of GDP)  Surface area (sq. km)  \\\n",
       "Country Code                                                            \n",
       "BLZ                                  62.906209                22970.0   \n",
       "BMU                                        NaN                 4290.0   \n",
       "CAN                                        NaN              9984670.0   \n",
       "CRI                                  68.065397                51100.0   \n",
       "SLV                                  60.665349                21040.0   \n",
       "GTM                                  62.137976               108890.0   \n",
       "HND                                  56.824489               112490.0   \n",
       "MEX                                  60.366156              1964375.0   \n",
       "NIC                                  50.131677               130370.0   \n",
       "PAN                                  64.649716                75420.0   \n",
       "USA                                  77.374532              9831510.0   \n",
       "\n",
       "              Tax revenue (% of GDP)  \\\n",
       "Country Code                           \n",
       "BLZ                        25.970056   \n",
       "BMU                              NaN   \n",
       "CAN                        12.521239   \n",
       "CRI                        13.777171   \n",
       "SLV                        17.790230   \n",
       "GTM                              NaN   \n",
       "HND                              NaN   \n",
       "MEX                        13.043359   \n",
       "NIC                        16.504696   \n",
       "PAN                              NaN   \n",
       "USA                        11.947411   \n",
       "\n",
       "              Urban population (% of total population)  \\\n",
       "Country Code                                             \n",
       "BLZ                                             45.601   \n",
       "BMU                                            100.000   \n",
       "CAN                                             81.350   \n",
       "CRI                                             78.560   \n",
       "SLV                                             71.275   \n",
       "GTM                                             50.680   \n",
       "HND                                             56.457   \n",
       "MEX                                             79.867   \n",
       "NIC                                             58.299   \n",
       "PAN                                             67.365   \n",
       "USA                                             82.058   \n",
       "\n",
       "              Urban population growth (annual %)  \n",
       "Country Code                                      \n",
       "BLZ                                     2.212754  \n",
       "BMU                                    -1.060518  \n",
       "CAN                                     1.247407  \n",
       "CRI                                     2.083381  \n",
       "SLV                                     1.593742  \n",
       "GTM                                     2.696399  \n",
       "HND                                     2.839475  \n",
       "MEX                                     1.527732  \n",
       "NIC                                     1.634020  \n",
       "PAN                                     2.214598  \n",
       "USA                                     0.879600  \n",
       "\n",
       "[11 rows x 67 columns]"
      ]
     },
     "execution_count": 3,
     "metadata": {},
     "output_type": "execute_result"
    }
   ],
   "source": [
    "# Assignment: Data of Team Hot Rod for Exploration\n",
    "region = wdiw[wdiw['Cool Name'] == 'Hot Rod']\n",
    "\n",
    "#Check it is correct\n",
    "region"
   ]
  },
  {
   "cell_type": "code",
   "execution_count": 4,
   "metadata": {
    "code_folding": []
   },
   "outputs": [
    {
     "name": "stdout",
     "output_type": "stream",
     "text": [
      "<class 'pandas.core.frame.DataFrame'>\n",
      "Index: 11 entries, BLZ to USA\n",
      "Data columns (total 67 columns):\n",
      "Country Name                                                                                                  11 non-null object\n",
      "Counter                                                                                                       11 non-null object\n",
      "Hult Region                                                                                                   11 non-null object\n",
      "Cool Name                                                                                                     11 non-null object\n",
      "Access to electricity (% of population)                                                                       11 non-null float64\n",
      "Access to electricity, rural (% of rural population)                                                          11 non-null float64\n",
      "Access to electricity, urban (% of urban population)                                                          11 non-null float64\n",
      "Adolescent fertility rate (births per 1,000 women ages 15-19)                                                 10 non-null float64\n",
      "Age dependency ratio (% of working-age population)                                                            10 non-null float64\n",
      "Age dependency ratio, old (% of working-age population)                                                       10 non-null float64\n",
      "Age dependency ratio, young (% of working-age population)                                                     10 non-null float64\n",
      "Agriculture, forestry, and fishing, value added (% of GDP)                                                    9 non-null float64\n",
      "Armed forces personnel (% of total labor force)                                                               10 non-null float64\n",
      "Birth rate, crude (per 1,000 people)                                                                          11 non-null float64\n",
      "Births attended by skilled health staff (% of total)                                                          0 non-null float64\n",
      "Death rate, crude (per 1,000 people)                                                                          11 non-null float64\n",
      "Educational attainment, Doctoral or equivalent, population 25+, total (%) (cumulative)                        0 non-null float64\n",
      "Educational attainment, at least Bachelor's or equivalent, population 25+, total (%) (cumulative)             1 non-null float64\n",
      "Educational attainment, at least Master's or equivalent, population 25+, total (%) (cumulative)               0 non-null float64\n",
      "Educational attainment, at least completed lower secondary, population 25+, total (%) (cumulative)            1 non-null float64\n",
      "Educational attainment, at least completed post-secondary, population 25+, total (%) (cumulative)             1 non-null float64\n",
      "Educational attainment, at least completed primary, population 25+ years, total (%) (cumulative)              1 non-null float64\n",
      "Educational attainment, at least completed short-cycle tertiary, population 25+, total (%) (cumulative)       1 non-null float64\n",
      "Educational attainment, at least completed upper secondary, population 25+, total (%) (cumulative)            1 non-null float64\n",
      "Employment in agriculture (% of total employment) (modeled ILO estimate)                                      10 non-null float64\n",
      "Employment in industry (% of total employment) (modeled ILO estimate)                                         10 non-null float64\n",
      "Employment in services (% of total employment) (modeled ILO estimate)                                         10 non-null float64\n",
      "Fertility rate, total (births per woman)                                                                      11 non-null float64\n",
      "GDP (current US$)                                                                                             10 non-null float64\n",
      "GDP growth (annual %)                                                                                         10 non-null float64\n",
      "GINI index (World Bank estimate)                                                                              4 non-null float64\n",
      "Government expenditure on education, total (% of government expenditure)                                      4 non-null float64\n",
      "Income share held by fourth 20%                                                                               4 non-null float64\n",
      "Income share held by highest 20%                                                                              4 non-null float64\n",
      "Income share held by lowest 20%                                                                               4 non-null float64\n",
      "Income share held by second 20%                                                                               4 non-null float64\n",
      "Income share held by third 20%                                                                                4 non-null float64\n",
      "Industry (including construction), value added (% of GDP)                                                     9 non-null float64\n",
      "Life expectancy at birth, total (years)                                                                       11 non-null float64\n",
      "Literacy rate, adult total (% of people ages 15 and above)                                                    1 non-null float64\n",
      "Literacy rate, youth total (% of people ages 15-24)                                                           1 non-null float64\n",
      "Merchandise trade (% of GDP)                                                                                  10 non-null float64\n",
      "Military expenditure (% of GDP)                                                                               8 non-null float64\n",
      "Mobile cellular subscriptions (per 100 people)                                                                11 non-null float64\n",
      "Number of people pushed below the $3.10 ($ 2011 PPP) poverty line by out-of-pocket health care expenditure    11 non-null float64\n",
      "Population ages 0-14 (% of total population)                                                                  10 non-null float64\n",
      "Population ages 15-64 (% of total population)                                                                 10 non-null float64\n",
      "Population ages 65 and above (% of total population)                                                          10 non-null float64\n",
      "Population density (people per sq. km of land area)                                                           11 non-null float64\n",
      "Population growth (annual %)                                                                                  11 non-null float64\n",
      "Population in the largest city (% of urban population)                                                        9 non-null float64\n",
      "Population living in slums (% of urban population)                                                            11 non-null float64\n",
      "Population, female                                                                                            10 non-null float64\n",
      "Population, male                                                                                              10 non-null float64\n",
      "Population, total                                                                                             11 non-null float64\n",
      "Poverty headcount ratio at $1.90 a day (2011 PPP) (% of population)                                           4 non-null float64\n",
      "Poverty headcount ratio at $3.20 a day (2011 PPP) (% of population)                                           4 non-null float64\n",
      "Poverty headcount ratio at national poverty lines (% of population)                                           3 non-null float64\n",
      "Prevalence of HIV, total (% of population ages 15-49)                                                         8 non-null float64\n",
      "Prevalence of undernourishment (% of population)                                                              10 non-null float64\n",
      "Prevalence of underweight, weight for age (% of children under 5)                                             0 non-null float64\n",
      "Rural population (% of total population)                                                                      10 non-null float64\n",
      "Services, value added (% of GDP)                                                                              9 non-null float64\n",
      "Surface area (sq. km)                                                                                         11 non-null float64\n",
      "Tax revenue (% of GDP)                                                                                        7 non-null float64\n",
      "Urban population (% of total population)                                                                      11 non-null float64\n",
      "Urban population growth (annual %)                                                                            11 non-null float64\n",
      "dtypes: float64(63), object(4)\n",
      "memory usage: 5.8+ KB\n"
     ]
    }
   ],
   "source": [
    "# Look at all Data Types and non-null values of our Data Set and create a specific Dataframe for our region\n",
    "hot_rod = pd.DataFrame(region)\n",
    "hot_rod.info()"
   ]
  },
  {
   "cell_type": "code",
   "execution_count": 5,
   "metadata": {
    "code_folding": []
   },
   "outputs": [
    {
     "data": {
      "text/html": [
       "<div>\n",
       "<style scoped>\n",
       "    .dataframe tbody tr th:only-of-type {\n",
       "        vertical-align: middle;\n",
       "    }\n",
       "\n",
       "    .dataframe tbody tr th {\n",
       "        vertical-align: top;\n",
       "    }\n",
       "\n",
       "    .dataframe thead th {\n",
       "        text-align: right;\n",
       "    }\n",
       "</style>\n",
       "<table border=\"1\" class=\"dataframe\">\n",
       "  <thead>\n",
       "    <tr style=\"text-align: right;\">\n",
       "      <th></th>\n",
       "      <th>Country Name</th>\n",
       "      <th>Counter</th>\n",
       "      <th>Hult Region</th>\n",
       "      <th>Cool Name</th>\n",
       "      <th>Access to electricity (% of population)</th>\n",
       "      <th>Access to electricity, rural (% of rural population)</th>\n",
       "      <th>Access to electricity, urban (% of urban population)</th>\n",
       "      <th>Adolescent fertility rate (births per 1,000 women ages 15-19)</th>\n",
       "      <th>Age dependency ratio (% of working-age population)</th>\n",
       "      <th>Age dependency ratio, old (% of working-age population)</th>\n",
       "      <th>...</th>\n",
       "      <th>Poverty headcount ratio at national poverty lines (% of population)</th>\n",
       "      <th>Prevalence of HIV, total (% of population ages 15-49)</th>\n",
       "      <th>Prevalence of undernourishment (% of population)</th>\n",
       "      <th>Prevalence of underweight, weight for age (% of children under 5)</th>\n",
       "      <th>Rural population (% of total population)</th>\n",
       "      <th>Services, value added (% of GDP)</th>\n",
       "      <th>Surface area (sq. km)</th>\n",
       "      <th>Tax revenue (% of GDP)</th>\n",
       "      <th>Urban population (% of total population)</th>\n",
       "      <th>Urban population growth (annual %)</th>\n",
       "    </tr>\n",
       "    <tr>\n",
       "      <th>Country Code</th>\n",
       "      <th></th>\n",
       "      <th></th>\n",
       "      <th></th>\n",
       "      <th></th>\n",
       "      <th></th>\n",
       "      <th></th>\n",
       "      <th></th>\n",
       "      <th></th>\n",
       "      <th></th>\n",
       "      <th></th>\n",
       "      <th></th>\n",
       "      <th></th>\n",
       "      <th></th>\n",
       "      <th></th>\n",
       "      <th></th>\n",
       "      <th></th>\n",
       "      <th></th>\n",
       "      <th></th>\n",
       "      <th></th>\n",
       "      <th></th>\n",
       "      <th></th>\n",
       "    </tr>\n",
       "  </thead>\n",
       "  <tbody>\n",
       "    <tr>\n",
       "      <td>BLZ</td>\n",
       "      <td>Belize</td>\n",
       "      <td>3</td>\n",
       "      <td>North America &amp; Part of Latin America</td>\n",
       "      <td>Hot Rod</td>\n",
       "      <td>98.265121</td>\n",
       "      <td>98.341982</td>\n",
       "      <td>98.173431</td>\n",
       "      <td>68.487</td>\n",
       "      <td>55.085473</td>\n",
       "      <td>7.158540</td>\n",
       "      <td>...</td>\n",
       "      <td>NaN</td>\n",
       "      <td>1.9</td>\n",
       "      <td>7.5</td>\n",
       "      <td>NaN</td>\n",
       "      <td>54.399</td>\n",
       "      <td>62.906209</td>\n",
       "      <td>22970.0</td>\n",
       "      <td>25.970056</td>\n",
       "      <td>45.601</td>\n",
       "      <td>2.212754</td>\n",
       "    </tr>\n",
       "    <tr>\n",
       "      <td>BMU</td>\n",
       "      <td>Bermuda</td>\n",
       "      <td>3</td>\n",
       "      <td>North America &amp; Part of Latin America</td>\n",
       "      <td>Hot Rod</td>\n",
       "      <td>100.000000</td>\n",
       "      <td>100.000000</td>\n",
       "      <td>100.000000</td>\n",
       "      <td>NaN</td>\n",
       "      <td>NaN</td>\n",
       "      <td>NaN</td>\n",
       "      <td>...</td>\n",
       "      <td>NaN</td>\n",
       "      <td>NaN</td>\n",
       "      <td>NaN</td>\n",
       "      <td>NaN</td>\n",
       "      <td>NaN</td>\n",
       "      <td>NaN</td>\n",
       "      <td>4290.0</td>\n",
       "      <td>NaN</td>\n",
       "      <td>100.000</td>\n",
       "      <td>-1.060518</td>\n",
       "    </tr>\n",
       "    <tr>\n",
       "      <td>CAN</td>\n",
       "      <td>Canada</td>\n",
       "      <td>3</td>\n",
       "      <td>North America &amp; Part of Latin America</td>\n",
       "      <td>Hot Rod</td>\n",
       "      <td>100.000000</td>\n",
       "      <td>100.000000</td>\n",
       "      <td>100.000000</td>\n",
       "      <td>8.387</td>\n",
       "      <td>48.616079</td>\n",
       "      <td>25.030652</td>\n",
       "      <td>...</td>\n",
       "      <td>NaN</td>\n",
       "      <td>NaN</td>\n",
       "      <td>2.5</td>\n",
       "      <td>NaN</td>\n",
       "      <td>18.650</td>\n",
       "      <td>NaN</td>\n",
       "      <td>9984670.0</td>\n",
       "      <td>12.521239</td>\n",
       "      <td>81.350</td>\n",
       "      <td>1.247407</td>\n",
       "    </tr>\n",
       "    <tr>\n",
       "      <td>CRI</td>\n",
       "      <td>Costa Rica</td>\n",
       "      <td>3</td>\n",
       "      <td>North America &amp; Part of Latin America</td>\n",
       "      <td>Hot Rod</td>\n",
       "      <td>99.600000</td>\n",
       "      <td>98.867164</td>\n",
       "      <td>99.800000</td>\n",
       "      <td>53.460</td>\n",
       "      <td>44.566920</td>\n",
       "      <td>13.373178</td>\n",
       "      <td>...</td>\n",
       "      <td>20.0</td>\n",
       "      <td>0.4</td>\n",
       "      <td>4.8</td>\n",
       "      <td>NaN</td>\n",
       "      <td>21.440</td>\n",
       "      <td>68.065397</td>\n",
       "      <td>51100.0</td>\n",
       "      <td>13.777171</td>\n",
       "      <td>78.560</td>\n",
       "      <td>2.083381</td>\n",
       "    </tr>\n",
       "    <tr>\n",
       "      <td>SLV</td>\n",
       "      <td>El Salvador</td>\n",
       "      <td>3</td>\n",
       "      <td>North America &amp; Part of Latin America</td>\n",
       "      <td>Hot Rod</td>\n",
       "      <td>99.490387</td>\n",
       "      <td>100.000000</td>\n",
       "      <td>98.841156</td>\n",
       "      <td>69.459</td>\n",
       "      <td>55.159853</td>\n",
       "      <td>12.575262</td>\n",
       "      <td>...</td>\n",
       "      <td>29.2</td>\n",
       "      <td>0.6</td>\n",
       "      <td>9.0</td>\n",
       "      <td>NaN</td>\n",
       "      <td>28.725</td>\n",
       "      <td>60.665349</td>\n",
       "      <td>21040.0</td>\n",
       "      <td>17.790230</td>\n",
       "      <td>71.275</td>\n",
       "      <td>1.593742</td>\n",
       "    </tr>\n",
       "  </tbody>\n",
       "</table>\n",
       "<p>5 rows × 67 columns</p>\n",
       "</div>"
      ],
      "text/plain": [
       "             Country Name Counter                            Hult Region  \\\n",
       "Country Code                                                               \n",
       "BLZ                Belize       3  North America & Part of Latin America   \n",
       "BMU               Bermuda       3  North America & Part of Latin America   \n",
       "CAN                Canada       3  North America & Part of Latin America   \n",
       "CRI            Costa Rica       3  North America & Part of Latin America   \n",
       "SLV           El Salvador       3  North America & Part of Latin America   \n",
       "\n",
       "             Cool Name  Access to electricity (% of population)  \\\n",
       "Country Code                                                      \n",
       "BLZ            Hot Rod                                98.265121   \n",
       "BMU            Hot Rod                               100.000000   \n",
       "CAN            Hot Rod                               100.000000   \n",
       "CRI            Hot Rod                                99.600000   \n",
       "SLV            Hot Rod                                99.490387   \n",
       "\n",
       "              Access to electricity, rural (% of rural population)  \\\n",
       "Country Code                                                         \n",
       "BLZ                                                   98.341982      \n",
       "BMU                                                  100.000000      \n",
       "CAN                                                  100.000000      \n",
       "CRI                                                   98.867164      \n",
       "SLV                                                  100.000000      \n",
       "\n",
       "              Access to electricity, urban (% of urban population)  \\\n",
       "Country Code                                                         \n",
       "BLZ                                                   98.173431      \n",
       "BMU                                                  100.000000      \n",
       "CAN                                                  100.000000      \n",
       "CRI                                                   99.800000      \n",
       "SLV                                                   98.841156      \n",
       "\n",
       "              Adolescent fertility rate (births per 1,000 women ages 15-19)  \\\n",
       "Country Code                                                                  \n",
       "BLZ                                                      68.487               \n",
       "BMU                                                         NaN               \n",
       "CAN                                                       8.387               \n",
       "CRI                                                      53.460               \n",
       "SLV                                                      69.459               \n",
       "\n",
       "              Age dependency ratio (% of working-age population)  \\\n",
       "Country Code                                                       \n",
       "BLZ                                                   55.085473    \n",
       "BMU                                                         NaN    \n",
       "CAN                                                   48.616079    \n",
       "CRI                                                   44.566920    \n",
       "SLV                                                   55.159853    \n",
       "\n",
       "              Age dependency ratio, old (% of working-age population)  ...  \\\n",
       "Country Code                                                           ...   \n",
       "BLZ                                                    7.158540        ...   \n",
       "BMU                                                         NaN        ...   \n",
       "CAN                                                   25.030652        ...   \n",
       "CRI                                                   13.373178        ...   \n",
       "SLV                                                   12.575262        ...   \n",
       "\n",
       "              Poverty headcount ratio at national poverty lines (% of population)  \\\n",
       "Country Code                                                                        \n",
       "BLZ                                                         NaN                     \n",
       "BMU                                                         NaN                     \n",
       "CAN                                                         NaN                     \n",
       "CRI                                                        20.0                     \n",
       "SLV                                                        29.2                     \n",
       "\n",
       "              Prevalence of HIV, total (% of population ages 15-49)  \\\n",
       "Country Code                                                          \n",
       "BLZ                                                         1.9       \n",
       "BMU                                                         NaN       \n",
       "CAN                                                         NaN       \n",
       "CRI                                                         0.4       \n",
       "SLV                                                         0.6       \n",
       "\n",
       "              Prevalence of undernourishment (% of population)  \\\n",
       "Country Code                                                     \n",
       "BLZ                                                        7.5   \n",
       "BMU                                                        NaN   \n",
       "CAN                                                        2.5   \n",
       "CRI                                                        4.8   \n",
       "SLV                                                        9.0   \n",
       "\n",
       "              Prevalence of underweight, weight for age (% of children under 5)  \\\n",
       "Country Code                                                                      \n",
       "BLZ                                                         NaN                   \n",
       "BMU                                                         NaN                   \n",
       "CAN                                                         NaN                   \n",
       "CRI                                                         NaN                   \n",
       "SLV                                                         NaN                   \n",
       "\n",
       "              Rural population (% of total population)  \\\n",
       "Country Code                                             \n",
       "BLZ                                             54.399   \n",
       "BMU                                                NaN   \n",
       "CAN                                             18.650   \n",
       "CRI                                             21.440   \n",
       "SLV                                             28.725   \n",
       "\n",
       "              Services, value added (% of GDP)  Surface area (sq. km)  \\\n",
       "Country Code                                                            \n",
       "BLZ                                  62.906209                22970.0   \n",
       "BMU                                        NaN                 4290.0   \n",
       "CAN                                        NaN              9984670.0   \n",
       "CRI                                  68.065397                51100.0   \n",
       "SLV                                  60.665349                21040.0   \n",
       "\n",
       "              Tax revenue (% of GDP)  \\\n",
       "Country Code                           \n",
       "BLZ                        25.970056   \n",
       "BMU                              NaN   \n",
       "CAN                        12.521239   \n",
       "CRI                        13.777171   \n",
       "SLV                        17.790230   \n",
       "\n",
       "              Urban population (% of total population)  \\\n",
       "Country Code                                             \n",
       "BLZ                                             45.601   \n",
       "BMU                                            100.000   \n",
       "CAN                                             81.350   \n",
       "CRI                                             78.560   \n",
       "SLV                                             71.275   \n",
       "\n",
       "              Urban population growth (annual %)  \n",
       "Country Code                                      \n",
       "BLZ                                     2.212754  \n",
       "BMU                                    -1.060518  \n",
       "CAN                                     1.247407  \n",
       "CRI                                     2.083381  \n",
       "SLV                                     1.593742  \n",
       "\n",
       "[5 rows x 67 columns]"
      ]
     },
     "execution_count": 5,
     "metadata": {},
     "output_type": "execute_result"
    }
   ],
   "source": [
    "# Look at first 5 rows and see index\n",
    "hot_rod.head()"
   ]
  },
  {
   "cell_type": "code",
   "execution_count": 6,
   "metadata": {
    "code_folding": []
   },
   "outputs": [
    {
     "data": {
      "text/plain": [
       "Country Name                                True\n",
       "Counter                                     True\n",
       "Hult Region                                 True\n",
       "Cool Name                                   True\n",
       "Access to electricity (% of population)     True\n",
       "                                            ... \n",
       "Services, value added (% of GDP)            True\n",
       "Surface area (sq. km)                       True\n",
       "Tax revenue (% of GDP)                      True\n",
       "Urban population (% of total population)    True\n",
       "Urban population growth (annual %)          True\n",
       "Length: 67, dtype: bool"
      ]
     },
     "execution_count": 6,
     "metadata": {},
     "output_type": "execute_result"
    }
   ],
   "source": [
    "#Check which columns are not null\n",
    "hot_rod.notnull().any()"
   ]
  },
  {
   "cell_type": "markdown",
   "metadata": {},
   "source": [
    "## Data Cleaning - Missing Values\n",
    "#### Missing values found through other sources include:\n",
    "1. [CIA, World Factbook](https://www.cia.gov/library/publications/the-world-factbook/)\n",
    "2. [United Nations Population Fund](https://www.unfpa.org/)\n",
    "3. [Indicators - World Bank Data - World Bank Group](https://data.worldbank.org/indicator)\n",
    "4. [Government of Bermuda](https://www.gov.bm/)\n",
    "\n",
    "### Below are missing values manually inputed:"
   ]
  },
  {
   "cell_type": "code",
   "execution_count": 7,
   "metadata": {
    "code_folding": [
     0
    ]
   },
   "outputs": [],
   "source": [
    "# Values inputed in this cell represent individual manual inputs for their resepctive columns.\n",
    "# Using fillna() to determine which columns should be receiving the value found from our sources.\n",
    "\n",
    "missing_val_0 = 32.38\n",
    "hot_rod['Adolescent fertility rate (births per 1,000 women ages 15-19)'] = hot_rod['Adolescent fertility rate (births per 1,000 women ages 15-19)'].fillna(missing_val_0)\n",
    "\n",
    "missing_val_1 = 49.3\n",
    "hot_rod['Age dependency ratio (% of working-age population)'] = hot_rod['Age dependency ratio (% of working-age population)'].fillna(missing_val_1)\n",
    "\n",
    "missing_val_2 = 22.5\n",
    "hot_rod['Age dependency ratio, old (% of working-age population)'] = hot_rod['Age dependency ratio, old (% of working-age population)'].fillna(missing_val_2)\n",
    "\n",
    "missing_val_3 = 26.8\n",
    "hot_rod['Age dependency ratio, young (% of working-age population)'] = hot_rod['Age dependency ratio, old (% of working-age population)'].fillna(missing_val_3)\n",
    "\n",
    "missing_val_4 = 10.3\n",
    "hot_rod['Employment in industry (% of total employment) (modeled ILO estimate)'] = hot_rod['Employment in industry (% of total employment) (modeled ILO estimate)'].fillna(missing_val_4)\n",
    "\n",
    "missing_val_5 = 87.65\n",
    "hot_rod['Employment in services (% of total employment) (modeled ILO estimate)'] = hot_rod['Employment in services (% of total employment) (modeled ILO estimate)'].fillna(missing_val_5)\n",
    "\n",
    "missing_val_6 = 4700000000\n",
    "hot_rod['GDP (current US$)'] = hot_rod['GDP (current US$)'].fillna(missing_val_6)\n",
    "\n",
    "missing_val_7 = 2.5\n",
    "hot_rod['GDP growth (annual %)'] = hot_rod['GDP growth (annual %)'].fillna(missing_val_7)\n",
    "\n",
    "missing_val_8 = 17.04\n",
    "hot_rod['Population ages 0-14 (% of total population)'] = hot_rod['Population ages 0-14 (% of total population)'].fillna(missing_val_8)\n",
    "\n",
    "missing_val_9 = 64.98\n",
    "hot_rod['Population ages 15-64 (% of total population)'] = hot_rod['Population ages 15-64 (% of total population)'].fillna(missing_val_9)\n",
    "\n",
    "missing_val_10 = 17.98\n",
    "hot_rod['Population ages 65 and above (% of total population)'] = hot_rod['Population ages 15-64 (% of total population)'].fillna(missing_val_10)\n",
    "\n",
    "missing_val_11 = 3.09\n",
    "hot_rod['Population in the largest city (% of urban population)'] = hot_rod['Population in the largest city (% of urban population)'].fillna(missing_val_11)\n",
    "\n",
    "missing_val_12 = 36591\n",
    "hot_rod['Population, female'] = hot_rod['Population, female'].fillna(missing_val_12)\n",
    "\n",
    "missing_val_13 = 34273\n",
    "hot_rod['Population, male'] = hot_rod['Population, male'].fillna(missing_val_13)\n",
    "\n",
    "missing_val_14 = 0\n",
    "hot_rod['Rural population (% of total population)'] = hot_rod['Rural population (% of total population)'].fillna(missing_val_14)"
   ]
  },
  {
   "cell_type": "code",
   "execution_count": 8,
   "metadata": {
    "code_folding": [
     0
    ]
   },
   "outputs": [],
   "source": [
    "#Manual fill in missing values for Canada and Mexico\n",
    "#filling in missing values for Canada\n",
    "hot_rod.loc[['CAN'],['Agriculture, forestry, and fishing, value added (% of GDP)']] = 1.68\n",
    "hot_rod.loc[['CAN'],['Industry (including construction), value added (% of GDP)']] = 8.51\n",
    "hot_rod.loc[['CAN'],['Services, value added (% of GDP)']] = 29.41\n",
    "\n",
    "#filling in missing values Education for Mexico column\n",
    "hot_rod.loc[['MEX'],['Educational attainment, Doctoral or equivalent, population 25+, total (%) (cumulative)']] = 0.1\n",
    "hot_rod.loc[['MEX'],[\"Educational attainment, at least Bachelor's or equivalent, population 25+, total (%) (cumulative)\"]] =15.4\n",
    "hot_rod.loc[['MEX'],[\"Educational attainment, at least Master's or equivalent, population 25+, total (%) (cumulative)\"]] = 1.5\n",
    "hot_rod.loc[['MEX'],[\"Educational attainment, at least completed lower secondary, population 25+, total (%) (cumulative)\"]] = 61.17\n",
    "hot_rod.loc[['MEX'],[\"Educational attainment, at least completed post-secondary, population 25+, total (%) (cumulative)\"]] = 15.84\n",
    "hot_rod.loc[['MEX'],[\"Educational attainment, at least completed primary, population 25+ years, total (%) (cumulative)\"]] =  81.42\n",
    "hot_rod.loc[['MEX'],[\"Educational attainment, at least completed short-cycle tertiary, population 25+, total (%) (cumulative)\"]] = 34.11\n",
    "hot_rod.loc[['MEX'],[\"Educational attainment, at least completed upper secondary, population 25+, total (%) (cumulative)\"]] = 34.11"
   ]
  },
  {
   "cell_type": "markdown",
   "metadata": {},
   "source": [
    "### Below are missing values inputed using a For Loop\n",
    "\n",
    "#### Steps to constructing For Loops:\n",
    "        1. Find missing values from an online source\n",
    "        2. Find corresponding column with missing values \n",
    "        3. Create a list of specific countries that are missing values from that column\n",
    "        4. Create a list of all values to be inputted into the column in the same order as the country list\n",
    "        5. Construct For Loop to fill in missing values"
   ]
  },
  {
   "cell_type": "code",
   "execution_count": 9,
   "metadata": {
    "code_folding": []
   },
   "outputs": [],
   "source": [
    "#Use for loops to fill missing values\n",
    "#filling in missing values Birth Attended column\n",
    "countries = ['BLZ', 'BMU', 'CAN', 'SLV','GTM','HND','MEX','NIC','PAN','USA']\n",
    "birth_numbers = [99,89,98,99,100,63,83,98,88,95,99]\n",
    "for (country_code, birth) in zip(countries, birth_numbers):\n",
    "    hot_rod.loc[[country_code],['Births attended by skilled health staff (% of total)']] = birth\n",
    "    \n",
    "#filling in missing values Tax Revenue column\n",
    "tax_countries = ['BMU','GTM', 'HND','MEX', 'PAN','USA']\n",
    "tax_list = [18.7,11.9,15.6,13.04,10.6,11.95]\n",
    "for (country_code, tax_num) in zip(tax_countries, tax_list): \n",
    "    hot_rod.loc[[country_code],['Tax revenue (% of GDP)']] = tax_num\n",
    "    \n",
    "#fill missging value for Age dependency ratio, young (% of working-age population)    \n",
    "age_countries = ['BLZ', 'BMU', 'CAN', 'SLV','GTM','HND','MEX','NIC','PAN','USA']\n",
    "age_nums = [47.93,26.8,23.58,31.19,42.58,58.17,51.26,40.80,47.44,42.22,28.69,39.44]\n",
    "for (x,y) in zip(age_countries, age_nums):\n",
    "    hot_rod.loc[[x],['Age dependency ratio, young (% of working-age population)']] = y\n",
    "    \n",
    "#fill missing values for doctoral education column\n",
    "doctor_countries = ['BMU', 'MEX', 'USA']\n",
    "doctor_nums = [1.28,0.08,1.85]\n",
    "for (x,y) in zip(doctor_countries, doctor_nums):\n",
    "    hot_rod.loc[[x],['Educational attainment, Doctoral or equivalent, population 25+, total (%) (cumulative)']] = y\n",
    "    \n",
    "#fill missing values for bachelor education column\n",
    "bach_countries = ['BMU','CRI','SLV','HND', 'MEX', 'USA']\n",
    "bach_nums = [31.11,20.63,7.12,10.5,14.71,33.44]\n",
    "for (x,y) in zip(bach_countries,bach_nums):\n",
    "    hot_rod.loc[[x],[\"Educational attainment, at least Bachelor's or equivalent, population 25+, total (%) (cumulative)\"]] = y\n",
    "\n",
    "#fill missing values for Masters education column\n",
    "masters_countries = ['BMU','CRI', 'MEX', 'USA']\n",
    "masters_nums = [9.99,2.65,21.86, 12.61]\n",
    "for (x,y) in zip(masters_countries , masters_nums):\n",
    "    hot_rod.loc[[x],[\"Educational attainment, at least Master's or equivalent, population 25+, total (%) (cumulative)\"]] = y\n",
    "    \n",
    "#fill missing values for lower secondary education column\n",
    "lowsec_countries = ['CRI','SLV','HND', 'MEX', 'USA']\n",
    "lowsec_nums = [53.11,43.25,33.70,59.71,95.59]\n",
    "for (x,y) in zip(lowsec_countries, lowsec_nums):\n",
    "    hot_rod.loc[[x],[\"Educational attainment, at least completed lower secondary, population 25+, total (%) (cumulative)\"]] = y\n",
    "    \n",
    "#fill missing values for post secondary education column\n",
    "postsec_countries = ['BMU','CRI','SLV','HND', 'MEX', 'USA']\n",
    "postsec_nums = [54.74,21.45,8.49,10.79,15.15,43.51]\n",
    "for (x,y) in zip(postsec_countries, postsec_nums):\n",
    "    hot_rod.loc[[x],[\"Educational attainment, at least completed post-secondary, population 25+, total (%) (cumulative)\"]] = y\n",
    "    \n",
    "#fill missing values for short tertiary education column\n",
    "ter_countries = ['CRI','SLV','HND', 'MEX', 'USA']\n",
    "ter_nums = [21.45,21.45,8.49,10.79,15.15,43.51]\n",
    "for (x,y) in zip(ter_countries, ter_nums):\n",
    "    hot_rod.loc[[x],[\"Educational attainment, at least completed short-cycle tertiary, population 25+, total (%) (cumulative)\"]] = y\n",
    "    \n",
    "#fill missing values for primary  education column\n",
    "pri_countries = ['CRI','SLV','HND', 'MEX', 'USA']\n",
    "pri_nums = [81.24, 58.65,61.29,80.11,98.88]\n",
    "for (x,y) in zip(pri_countries, pri_nums):\n",
    "    hot_rod.loc[[x],[\"Educational attainment, at least completed short-cycle tertiary, population 25+, total (%) (cumulative)\"]] = y\n",
    "    \n",
    "#fill missing values for upper  education column\n",
    "upper_countries = ['BMU','CRI','SLV','HND', 'MEX', 'USA']\n",
    "upper_nums = [87.45,38.30,30.34,24.69,33.29, 89.09]\n",
    "for (x,y) in zip(upper_countries, upper_nums):\n",
    "    hot_rod.loc[[x],[\"Educational attainment, at least completed upper secondary, population 25+, total (%) (cumulative)\"]] = y\n",
    "    \n",
    "#fill missing values for population column\n",
    "pop_countries = ['BLZ','BMU','CAN','CRI','SLV','GTM','HND', 'MEX','NIC','PAN', 'USA']\n",
    "pop_nums = [4.62,17.98,16.84, 9.25,8.24,4.70,4.57,7.04,5.05,7.91,15.42,8.64]\n",
    "for (x,y) in zip(pop_countries, pop_nums):\n",
    "    hot_rod.loc[[x],[\"Population ages 65 and above (% of total population)\"]] = y\n",
    "    \n",
    "#fill missing values for poverty headcount $1.90 column \n",
    "countries_190 = ['CRI','SLV','HND', 'PAN']\n",
    "nums_190 = [1,1.9,17.2,2.5]\n",
    "for (x,y) in zip(countries_190, nums_190):\n",
    "    hot_rod.loc[[x],[\"Poverty headcount ratio at $1.90 a day (2011 PPP) (% of population)\"]] = y\n",
    "    \n",
    "#fill missing values for poverty headcount $3.20 column\n",
    "countries_320 = ['CRI','SLV','HND', 'PAN']\n",
    "nums_320 = [2.7,8.5,31.6,6.3]\n",
    "for (x,y) in zip(countries_320, nums_320):\n",
    "    hot_rod.loc[[x],[\"Poverty headcount ratio at $3.20 a day (2011 PPP) (% of population)\"]] = y\n",
    "    \n",
    "#fill missing values for poverty national column\n",
    "countries_national = ['CRI','SLV','HND']\n",
    "nums_national = [20,29.2,64.3]\n",
    "for (x,y) in zip(countries_national, nums_national):\n",
    "    hot_rod.loc[[x],[\"Poverty headcount ratio at national poverty lines (% of population)\"]] = y\n",
    "    \n",
    "#fill missing values for HIV column\n",
    "countries_HIV = ['BLZ','CRI','SLV','GTM','HND','MEX','NIC',\"PAN\"]\n",
    "nums_HIV = [1.9,0.4,0.6,0.4,0.3,0.2,0.2,0.9]\n",
    "for (x,y) in zip(countries_HIV, nums_HIV):\n",
    "    hot_rod.loc[[x],[\"Prevalence of HIV, total (% of population ages 15-49)\"]] = y\n",
    "    \n",
    "#fill missing values for undernourishment column\n",
    "countries_undernourishment = ['BLZ','CAN','CRI','SLV','GTM','HND','MEX','NIC',\"PAN\",'USA']\n",
    "nums_undernourishment = [7.5,2.5,4.8,9,15.2,12.9,3.6,17,10,2.5]\n",
    "for (x,y) in zip(countries_undernourishment, nums_undernourishment):\n",
    "    hot_rod.loc[[x],[\"Prevalence of undernourishment (% of population)\"]] = y"
   ]
  },
  {
   "cell_type": "markdown",
   "metadata": {},
   "source": [
    "### Remaining Missing Values\n",
    "\n",
    "Although we found some missing data from third-party sources, we still didn't find  a lot of  data on education, economy and poverty. All three aspect are available at the world bank and third-party source, but they are not 2017.Data at different times would cause issues in our analysis, so we don't use past data.\n",
    "\n",
    "After investigation, we found that the reasons for the lack of data mainly include the following points.\n",
    "   1. Some indicators are derived from sporadic surveys and are only available every few years.\n",
    "   2. Some indicators and datasets do not include data on high - income countries. This typically occurs because of high - income countries are not World Bank borrowers and thus are not by report figures on topics such as debt and aid.\n",
    "         For example, Poverty data: The scope of poverty series focuses on developing countries (low and middle-income).\n",
    "   3. It is important to note that the UNPD does not produce population estimates for countries with fewer than 50000 inhabitants. So the world bank's databases are incomplete for countries with smaller populations.\n",
    "   4. Complete information had been collected in some countries, and, as a result of poor statistical information systems, may not always report them at the international level.\n",
    "\n",
    "In order to try address this issue we looked into options of creating a regression analysis and project potential 2017 numbers. However each country lacked vital data to use this process. Our initial approach was to get the data for missing columns for the previous 5 years from 2011 - 2016. The issue we ran into was that many of these countries had 1 or 2 values for a year but none had 5 consecutive years to conduct a viable projection for year 2017. This resulted in us trying to compute the average and use it as a placeholder but the data was too skewed since years prior to 2017 were not consistent enough to get a analysis.\n",
    "\n",
    "At this stage we made the decision to not analyze the missing columns in depth, otherwise any insights we would have determined would be speculating and will cause skews in our exploration.\n",
    "\n",
    "We also choose not to drop any columns using dropna() because there was still valuable data for a select few countries which we planned on exploring. If we had dropped columns with missing values, we wouldn't have gotten insights on key aspect to specific countries."
   ]
  },
  {
   "cell_type": "markdown",
   "metadata": {},
   "source": [
    "## Data Analysis\n",
    "Next we conduct our exploratory analysis on the new dataframe hot_rod, examining general observations and look for any key outliers in our dataset. Our analysis is broken down into 6 main categories. 5 of these categories can be referenced as a guide based on the [United Nations Sustainable Development Goals](https://sustainabledevelopment.un.org/?menu=1300)\n",
    "\n",
    "    1. General Exploration\n",
    "    2. Population (UNSDG)\n",
    "    3. Military (UNSDG)\n",
    "    4. Employment (UNSDG)\n",
    "    5. GDP (UNSDG)\n",
    "    6. Poverty/Health (UNSDG)\n",
    "\n",
    "Utiliziing our skills with matplot.lib and seaborn, we explore our data using a variety of data visualization tools - including: boxplots, scatterplots, barcharts, heatmaps, correlation & axline"
   ]
  },
  {
   "cell_type": "markdown",
   "metadata": {},
   "source": [
    "### General Exploration / Insights\n",
    "Below we explored the data before conducting in depth analysis."
   ]
  },
  {
   "cell_type": "code",
   "execution_count": 10,
   "metadata": {
    "code_folding": []
   },
   "outputs": [
    {
     "data": {
      "text/html": [
       "<div>\n",
       "<style scoped>\n",
       "    .dataframe tbody tr th:only-of-type {\n",
       "        vertical-align: middle;\n",
       "    }\n",
       "\n",
       "    .dataframe tbody tr th {\n",
       "        vertical-align: top;\n",
       "    }\n",
       "\n",
       "    .dataframe thead th {\n",
       "        text-align: right;\n",
       "    }\n",
       "</style>\n",
       "<table border=\"1\" class=\"dataframe\">\n",
       "  <thead>\n",
       "    <tr style=\"text-align: right;\">\n",
       "      <th></th>\n",
       "      <th>Access to electricity (% of population)</th>\n",
       "      <th>Access to electricity, rural (% of rural population)</th>\n",
       "      <th>Access to electricity, urban (% of urban population)</th>\n",
       "    </tr>\n",
       "    <tr>\n",
       "      <th>Country Code</th>\n",
       "      <th></th>\n",
       "      <th></th>\n",
       "      <th></th>\n",
       "    </tr>\n",
       "  </thead>\n",
       "  <tbody>\n",
       "    <tr>\n",
       "      <td>BLZ</td>\n",
       "      <td>98.265121</td>\n",
       "      <td>98.341982</td>\n",
       "      <td>98.173431</td>\n",
       "    </tr>\n",
       "    <tr>\n",
       "      <td>BMU</td>\n",
       "      <td>100.000000</td>\n",
       "      <td>100.000000</td>\n",
       "      <td>100.000000</td>\n",
       "    </tr>\n",
       "    <tr>\n",
       "      <td>CAN</td>\n",
       "      <td>100.000000</td>\n",
       "      <td>100.000000</td>\n",
       "      <td>100.000000</td>\n",
       "    </tr>\n",
       "    <tr>\n",
       "      <td>CRI</td>\n",
       "      <td>99.600000</td>\n",
       "      <td>98.867164</td>\n",
       "      <td>99.800000</td>\n",
       "    </tr>\n",
       "    <tr>\n",
       "      <td>SLV</td>\n",
       "      <td>99.490387</td>\n",
       "      <td>100.000000</td>\n",
       "      <td>98.841156</td>\n",
       "    </tr>\n",
       "    <tr>\n",
       "      <td>GTM</td>\n",
       "      <td>93.288094</td>\n",
       "      <td>89.320689</td>\n",
       "      <td>97.149033</td>\n",
       "    </tr>\n",
       "    <tr>\n",
       "      <td>HND</td>\n",
       "      <td>86.500000</td>\n",
       "      <td>71.848641</td>\n",
       "      <td>97.800000</td>\n",
       "    </tr>\n",
       "    <tr>\n",
       "      <td>MEX</td>\n",
       "      <td>100.000000</td>\n",
       "      <td>100.000000</td>\n",
       "      <td>100.000000</td>\n",
       "    </tr>\n",
       "    <tr>\n",
       "      <td>NIC</td>\n",
       "      <td>86.767799</td>\n",
       "      <td>68.488026</td>\n",
       "      <td>99.843231</td>\n",
       "    </tr>\n",
       "    <tr>\n",
       "      <td>PAN</td>\n",
       "      <td>100.000000</td>\n",
       "      <td>100.000000</td>\n",
       "      <td>100.000000</td>\n",
       "    </tr>\n",
       "    <tr>\n",
       "      <td>USA</td>\n",
       "      <td>100.000000</td>\n",
       "      <td>100.000000</td>\n",
       "      <td>100.000000</td>\n",
       "    </tr>\n",
       "  </tbody>\n",
       "</table>\n",
       "</div>"
      ],
      "text/plain": [
       "              Access to electricity (% of population)  \\\n",
       "Country Code                                            \n",
       "BLZ                                         98.265121   \n",
       "BMU                                        100.000000   \n",
       "CAN                                        100.000000   \n",
       "CRI                                         99.600000   \n",
       "SLV                                         99.490387   \n",
       "GTM                                         93.288094   \n",
       "HND                                         86.500000   \n",
       "MEX                                        100.000000   \n",
       "NIC                                         86.767799   \n",
       "PAN                                        100.000000   \n",
       "USA                                        100.000000   \n",
       "\n",
       "              Access to electricity, rural (% of rural population)  \\\n",
       "Country Code                                                         \n",
       "BLZ                                                   98.341982      \n",
       "BMU                                                  100.000000      \n",
       "CAN                                                  100.000000      \n",
       "CRI                                                   98.867164      \n",
       "SLV                                                  100.000000      \n",
       "GTM                                                   89.320689      \n",
       "HND                                                   71.848641      \n",
       "MEX                                                  100.000000      \n",
       "NIC                                                   68.488026      \n",
       "PAN                                                  100.000000      \n",
       "USA                                                  100.000000      \n",
       "\n",
       "              Access to electricity, urban (% of urban population)  \n",
       "Country Code                                                        \n",
       "BLZ                                                   98.173431     \n",
       "BMU                                                  100.000000     \n",
       "CAN                                                  100.000000     \n",
       "CRI                                                   99.800000     \n",
       "SLV                                                   98.841156     \n",
       "GTM                                                   97.149033     \n",
       "HND                                                   97.800000     \n",
       "MEX                                                  100.000000     \n",
       "NIC                                                   99.843231     \n",
       "PAN                                                  100.000000     \n",
       "USA                                                  100.000000     "
      ]
     },
     "execution_count": 10,
     "metadata": {},
     "output_type": "execute_result"
    }
   ],
   "source": [
    "# Look at electricity levels for the region\n",
    "electricity = hot_rod.iloc[:,4:7]\n",
    "electricity"
   ]
  },
  {
   "cell_type": "code",
   "execution_count": 11,
   "metadata": {
    "code_folding": []
   },
   "outputs": [
    {
     "name": "stdout",
     "output_type": "stream",
     "text": [
      "              GDP growth (annual %)\n",
      "Country Code                       \n",
      "BLZ                        1.437289\n",
      "BMU                        2.500000\n",
      "CAN                        2.978566\n",
      "CRI                        3.397182\n",
      "SLV                        2.307939\n",
      "GTM                        2.760338\n",
      "HND                        4.788027\n",
      "MEX                        2.069715\n",
      "NIC                        4.675475\n",
      "PAN                        5.321230\n",
      "USA                        2.217010\n"
     ]
    }
   ],
   "source": [
    "#GDP Growth\n",
    "gdp_growth = print(hot_rod[['GDP growth (annual %)']])\n",
    "gdp_growth"
   ]
  },
  {
   "cell_type": "code",
   "execution_count": 12,
   "metadata": {
    "code_folding": []
   },
   "outputs": [
    {
     "name": "stdout",
     "output_type": "stream",
     "text": [
      "              Population, female  Population, male  Population, total\n",
      "Country Code                                                         \n",
      "BLZ                     188476.0          187293.0           375769.0\n",
      "BMU                      36591.0           34273.0            63874.0\n",
      "CAN                   18417231.0        18123037.0         36540268.0\n",
      "CRI                    2474720.0         2475234.0          4949954.0\n",
      "SLV                    3390313.0         2997809.0          6388122.0\n",
      "GTM                    8588624.0         8326312.0         16914936.0\n",
      "HND                    4719921.0         4709092.0          9429013.0\n",
      "MEX                   63752822.0        61024502.0        124777324.0\n",
      "NIC                    3237850.0         3147005.0          6384855.0\n",
      "PAN                    2048697.0         2058074.0          4106771.0\n",
      "USA                  164275323.0       160871798.0        325147121.0\n"
     ]
    }
   ],
   "source": [
    "# distribution between males and females\n",
    "gender = print(hot_rod[['Population, female','Population, male','Population, total']])"
   ]
  },
  {
   "cell_type": "code",
   "execution_count": 13,
   "metadata": {
    "code_folding": []
   },
   "outputs": [
    {
     "data": {
      "text/plain": [
       "Country Code\n",
       "BLZ     True\n",
       "BMU    False\n",
       "CAN     True\n",
       "CRI     True\n",
       "SLV     True\n",
       "GTM     True\n",
       "HND     True\n",
       "MEX     True\n",
       "NIC     True\n",
       "PAN     True\n",
       "USA     True\n",
       "Name: Population growth (annual %), dtype: bool"
      ]
     },
     "execution_count": 13,
     "metadata": {},
     "output_type": "execute_result"
    }
   ],
   "source": [
    "#check if there is a positive growth in population\n",
    "hot_rod['Population growth (annual %)'] > 0\n",
    "#Bermuda is negative"
   ]
  },
  {
   "cell_type": "code",
   "execution_count": 14,
   "metadata": {
    "code_folding": []
   },
   "outputs": [
    {
     "data": {
      "text/plain": [
       "Country Code\n",
       "BLZ     True\n",
       "BMU     True\n",
       "CAN    False\n",
       "CRI    False\n",
       "SLV    False\n",
       "GTM    False\n",
       "HND    False\n",
       "MEX    False\n",
       "NIC    False\n",
       "PAN    False\n",
       "USA    False\n",
       "Name: Population, total, dtype: bool"
      ]
     },
     "execution_count": 14,
     "metadata": {},
     "output_type": "execute_result"
    }
   ],
   "source": [
    "#check if there are any small countries in the data set under a million population\n",
    "hot_rod['Population, total'] < 1000000"
   ]
  },
  {
   "cell_type": "code",
   "execution_count": 15,
   "metadata": {
    "code_folding": []
   },
   "outputs": [
    {
     "data": {
      "text/plain": [
       "Country Code\n",
       "BMU       4290.0\n",
       "SLV      21040.0\n",
       "BLZ      22970.0\n",
       "CRI      51100.0\n",
       "PAN      75420.0\n",
       "GTM     108890.0\n",
       "HND     112490.0\n",
       "NIC     130370.0\n",
       "MEX    1964375.0\n",
       "USA    9831510.0\n",
       "CAN    9984670.0\n",
       "Name: Surface area (sq. km), dtype: float64"
      ]
     },
     "execution_count": 15,
     "metadata": {},
     "output_type": "execute_result"
    }
   ],
   "source": [
    "# check smallest country in descending order by size\n",
    "size_country = hot_rod['Surface area (sq. km)']\n",
    "size_country.sort_values()\n",
    "#Bermuda has a very small size"
   ]
  },
  {
   "cell_type": "markdown",
   "metadata": {},
   "source": [
    "Based on our exploration of the dataset before diving deeper into specific outliers and categories we found important insights to our region which helped provide us a direction for more analysis.\n",
    "\n",
    "The following sources were consulted to understand the challenges (political, economic, military and societal) faced by the countries within North and Central America previous to analyzing the dataset.\n",
    "\n",
    "#### Some key insights are the following:\n",
    "\n",
    "1. Inequality and poverty is high in Central America countries. \n",
    "2. All countries have high access to electricity in all regions\n",
    "3. All have positive GDP growth rates\n",
    "4. All have a 48 - 51% distribution of males from population\n",
    "5. The Caribbean countries like Belize is vulnerable to climate change and natural disasters even with good economic development.\n",
    "6. The region includes Upper, Middle and Low-Income Countries.\n",
    "7. Countries like Guatemala have stable economic growth but no growth acceleration to close the gap between rich countries.\n",
    "8. There are countries with high economic growth, but poverty and inequality are high, such as Honduras.  \n",
    "9. Mexico has strong macroeconomic policies - 1) Privileged Geography, 2) Abundant Natural Capital, 3) Democracy allowing more political parties.\n",
    "10. Nicaragua has social and political unrest\n",
    "11. Panama is one of the fastest Growing economies, 7.2% between 2001 to 2013\n",
    "\n",
    " \n",
    "Sources:\n",
    "\n",
    "[Crime in Belize](https://www.sanpedrosun.com/crime-and-violence/2018/04/11/international-report-marks-belize-major-drug-trafficking-money-laundering-country/)<br></br>\n",
    "[Panama](https://www.worldbank.org/en/country/panama)<br></br>\n",
    "[Costa Rica](https://www.worldbank.org/en/country/costarica/overview)<br></br>\n",
    "[El Salvador](https://www.worldbank.org/en/country/elsalvador)<br></br>\n",
    "[Guatemala](https://www.worldbank.org/en/country/guatemala)<br></br>\n",
    "[Honduras](https://www.worldbank.org/en/country/honduras)<br></br>\n",
    "[Mexico](https://www.worldbank.org/en/country/mexico/publication/mexico-diagnostico-sistematico-de-pais)<br></br>\n",
    "[Nicaragua](https://www.worldbank.org/en/country/nicaragua)"
   ]
  },
  {
   "cell_type": "markdown",
   "metadata": {},
   "source": [
    "### Population Analysis\n",
    "This analysis is to look into how quality of life and population can be influenced by location and demographic trends."
   ]
  },
  {
   "cell_type": "code",
   "execution_count": 16,
   "metadata": {
    "code_folding": []
   },
   "outputs": [
    {
     "data": {
      "image/png": "[encoded data removed]",
      "text/plain": [
       "<Figure size 432x288 with 1 Axes>"
      ]
     },
     "metadata": {
      "needs_background": "light"
     },
     "output_type": "display_data"
    }
   ],
   "source": [
    "# Why are the fertility rates for adolescents so high for some, and not USA and Canada?\n",
    "x_value = hot_rod[\"Adolescent fertility rate (births per 1,000 women ages 15-19)\"]\n",
    "country_code = hot_rod['Country Name']\n",
    "\n",
    "chart = sns.barplot(country_code, x_value, data=hot_rod)\n",
    "chart.set_xticklabels(chart.get_xticklabels(), rotation=45, horizontalalignment='right')\n",
    "plt.axhline(y = 42.455699, label = 'World Average')\n",
    "plt.title('Adolescent Fertility Rate')\n",
    "plt.xlabel('Country')\n",
    "plt.ylabel('Per 1000s births')\n",
    "plt.savefig('Adolescent Fertility Rate.png')"
   ]
  },
  {
   "cell_type": "code",
   "execution_count": 17,
   "metadata": {
    "code_folding": []
   },
   "outputs": [
    {
     "name": "stderr",
     "output_type": "stream",
     "text": [
      "C:\\Users\\jason\\Anaconda3\\lib\\site-packages\\seaborn\\categorical.py:1324: RuntimeWarning: invalid value encountered in less\n",
      "  off_low = points < low_gutter\n",
      "C:\\Users\\jason\\Anaconda3\\lib\\site-packages\\seaborn\\categorical.py:1328: RuntimeWarning: invalid value encountered in greater\n",
      "  off_high = points > high_gutter\n"
     ]
    },
    {
     "data": {
      "image/png": "[encoded data removed]",
      "text/plain": [
       "<Figure size 432x288 with 1 Axes>"
      ]
     },
     "metadata": {
      "needs_background": "light"
     },
     "output_type": "display_data"
    }
   ],
   "source": [
    "#Construct a Swarmplot to spot for any outliers for quality of health care\n",
    "x_v = hot_rod['Country Name']\n",
    "y_v = hot_rod['Births attended by skilled health staff (% of total)']\n",
    "sns.swarmplot(x=x_v,y=y_v, data = hot_rod).set_xticklabels(chart.get_xticklabels(), rotation=45, horizontalalignment='right')\n",
    "plt.xlabel('Country')\n",
    "plt.ylabel('Percent of total')\n",
    "plt.axhline(y = 92)\n",
    "plt.title('Births attended by skilled health staff')\n",
    "plt.savefig('Births attended by skilled health staff.png')"
   ]
  },
  {
   "cell_type": "markdown",
   "metadata": {},
   "source": [
    "#### **Insights:**\n",
    "\n",
    "Looking at the bar chart we can see that a lot of the Latin American countries have a high adolescent fertility rate. What this measures is how adolescent girls between the ages of 15-19 are giving birth. With this data, and looking at the scatter on the left, we can gather insights that the quality of health service support for these young girls especially in Honduras(outlier) is very poor. This is a cause for concern. Similarly Mexico and Panama also have high Fertility rates, but are below the world average from skilled staff. This can be worrying news, when young girls are giving birth but do not have the quality care they deserve.\n",
    "\n",
    "###### **Six Facts About Healthcare in Honduras**\n",
    "        1. Access to healthcare for families in Honduras is determined by poverty level, socioeconomic status.\n",
    "        2. One of the major barriers to receiving good healthcare in Honduras is lack of access to physicians.\n",
    "        3. The Honduran health system is made up of a private and public sector. \n",
    "        4. Unfortunately, the current health system is experiencing a crisis due to poor management.\n",
    "        5. Honduras implemented a different national health model in 2015 to aid impoverished and rural areas.\n",
    "        6. The Millennium Challenge Corporation (MCC) has started a $15.6 million.\n",
    "        \n",
    "Source: [Honduras Healthcare](https://borgenproject.org/healthcare-in-honduras/)"
   ]
  },
  {
   "cell_type": "code",
   "execution_count": 18,
   "metadata": {
    "code_folding": []
   },
   "outputs": [
    {
     "data": {
      "image/png": "[encoded data removed]",
      "text/plain": [
       "<Figure size 432x288 with 1 Axes>"
      ]
     },
     "metadata": {
      "needs_background": "light"
     },
     "output_type": "display_data"
    }
   ],
   "source": [
    "# Construct a swarmplot to spot any outliers in population density per sq. km\n",
    "x = hot_rod['Country Name']\n",
    "y = hot_rod['Population density (people per sq. km of land area)']\n",
    "sns.swarmplot(x=x,y=y, data = hot_rod).set_xticklabels(chart.get_xticklabels(), rotation=45, horizontalalignment='right')\n",
    "plt.xlabel('Country')\n",
    "plt.ylabel('People per sq. km of land area')\n",
    "plt.axhline(y = 59)\n",
    "plt.title('Population Density')\n",
    "plt.savefig('Population Density.png')"
   ]
  },
  {
   "cell_type": "code",
   "execution_count": 19,
   "metadata": {
    "code_folding": []
   },
   "outputs": [
    {
     "data": {
      "text/plain": [
       "<matplotlib.lines.Line2D at 0x1dc4e0ec940>"
      ]
     },
     "execution_count": 19,
     "metadata": {},
     "output_type": "execute_result"
    },
    {
     "data": {
      "image/png": "[encoded data removed]",
      "text/plain": [
       "<Figure size 432x288 with 1 Axes>"
      ]
     },
     "metadata": {
      "needs_background": "light"
     },
     "output_type": "display_data"
    }
   ],
   "source": [
    "# Construct a bar plot to compare the demographics between young and old population, and add world average as benchmark\n",
    "pop_plot = hot_rod.loc[:,\n",
    "                        ['Population ages 0-14 (% of total population)',\n",
    "                         'Population ages 65 and above (% of total population)']]\n",
    "\n",
    "pop_plot.plot.bar()\n",
    "plt.axhline(y = 25, color = 'blue')\n",
    "plt.axhline(y = 8.7, color = 'orange')"
   ]
  },
  {
   "cell_type": "code",
   "execution_count": 20,
   "metadata": {
    "code_folding": [
     2
    ],
    "scrolled": true
   },
   "outputs": [
    {
     "data": {
      "text/plain": [
       "[Text(0.5, 0, 'Population density (people per sq. km of land area)'),\n",
       " Text(1.5, 0, 'Urban population (% of total population)'),\n",
       " Text(2.5, 0, 'Life expectancy at birth, total (years)')]"
      ]
     },
     "execution_count": 20,
     "metadata": {},
     "output_type": "execute_result"
    },
    {
     "data": {
      "image/png": "[encoded data removed]",
      "text/plain": [
       "<Figure size 432x288 with 2 Axes>"
      ]
     },
     "metadata": {
      "needs_background": "light"
     },
     "output_type": "display_data"
    }
   ],
   "source": [
    "# Construct a correlation heatmap to analysis to see if there is a relationship between location and life expectancy\n",
    "pop_growth = hot_rod.loc[:,\n",
    "                        ['Population density (people per sq. km of land area)',\n",
    "                         'Population living in slums (% of urban population)',\n",
    "                        'Urban population (% of total population)',\n",
    "                        'Life expectancy at birth, total (years)']].corr()\n",
    "\n",
    "pop_labels = ['Population density (people per sq. km of land area)',\n",
    "                        'Urban population (% of total population)',\n",
    "                        'Life expectancy at birth, total (years)']\n",
    "\n",
    "sns.heatmap(pop_growth, cmap=\"YlGnBu\", vmin=0, vmax=1).set_xticklabels(pop_labels,rotation=45, horizontalalignment='right')"
   ]
  },
  {
   "cell_type": "markdown",
   "metadata": {},
   "source": [
    "#### **Insights:**\n",
    "\n",
    "Based on information from the CDC, we can conclude that the rural areas in majority of the countries in our region, excluding the USA and Canada have poor access to healthcare services and basic health services. \n",
    "\n",
    "Access to basic healthcare in Central America largely depends on socioeconomic status and environment (urban or rural). El Salvador, Guatemala, and Honduras have worked to improve access and quality of care, particularly in rural settings. Despite improvements to health services and systems, rural populations still have difficulty accessing basic health services.\n",
    "\n",
    "We can see from this correlation, that urban population and life expectancy at birth are highly correlated at around 0.8 on the dark blue scale. This validates the assumptions the CDC provided that health care access is predominantly available to urban populations. An interesting insight is that the Bermuda has a 0% of their population living in rural areas. This is due to the fact the country is only 20.54 mi² and they don’t classify any areas in their country as rural. We see from the data cells, that from our region Bermuda is 2nd highest in terms of expectancy age. Showing that with their smaller population and access to healthcare services they are living longer. Bermuda’s health spend was 11.5 per cent as a share of its GDP, behind only Switzerland at 12.4 per cent and the US at 17.2 per cent. The OECD average was 9.08 per cent.\n",
    "\n",
    "###### Source:\n",
    "\n",
    "[CDC Health- Central America](https://www.cdc.gov/immigrantrefugeehealth/profiles/central-american/healthcare-diet/index.html)<br></br>\n",
    "[Bermuda's Health](http://www.royalgazette.com/health/article/20190124/island-falls-behind-on-life-expectancy)"
   ]
  },
  {
   "cell_type": "markdown",
   "metadata": {},
   "source": [
    "### Military\n",
    "This analysis is to look into how the impact of military spending can play a big role in GDP growth.\n",
    "\n",
    "The variables that we would like to compare:\n",
    "    1. Armed forces personnel (% of total labor force) \n",
    "    2. Military expenditure (% of GDP)\n",
    "    3. GDP growth (annual %) \n",
    "    \n",
    "#### Imputing missing values:\n",
    "    1. Bermuda has only one military unit, The Bermuda Regiment, which is supported by U.K. We would like to consider the minimum of all the countries as their Armed forces Personnel.\n",
    "    2. Panama and Costa Rica have demilitarized due to distrust on military and it is also considered National Pride as a symbol of Peace. Costa Rica had internal conflicts and Panama abolished after United States invasion. Bermuda, Panama and Costa Rica do not spend on military. If they did it is very negligible (up to 0.05% of GDP). So the military expenditure is taken as zero."
   ]
  },
  {
   "cell_type": "code",
   "execution_count": 21,
   "metadata": {
    "code_folding": [
     1
    ]
   },
   "outputs": [
    {
     "data": {
      "text/plain": [
       "Country Name                                       False\n",
       "Armed forces personnel (% of total labor force)    False\n",
       "Military expenditure (% of GDP)                    False\n",
       "GDP growth (annual %)                              False\n",
       "dtype: bool"
      ]
     },
     "execution_count": 21,
     "metadata": {},
     "output_type": "execute_result"
    }
   ],
   "source": [
    "# Exploring Military Strength of the Region\n",
    "military = hot_rod.loc[:,[\"Country Name\",\"Armed forces personnel (% of total labor force)\",\\\n",
    "                             \"Military expenditure (% of GDP)\",\"GDP growth (annual %)\"]].round(2)\n",
    "\n",
    "# Imputing the Missing Values (Note: These are the missing values that we could not find)\n",
    "\n",
    "# Bermuda Armed Forces Personnel (Supported by U.K, The Bermuda Regiment)\n",
    "ber_armed = min(military[\"Armed forces personnel (% of total labor force)\"])\n",
    "military[\"Armed forces personnel (% of total labor force)\"] = military[\"Armed forces personnel (% of total labor force)\"].fillna(ber_armed)\n",
    "\n",
    "# Military Expediture\n",
    "mil_exp = 0  # These countries do not spend on military\n",
    "military[\"Military expenditure (% of GDP)\"] = military[\"Military expenditure (% of GDP)\"].fillna(mil_exp)\n",
    "\n",
    "#Check missing value\n",
    "military.isnull().any()"
   ]
  },
  {
   "cell_type": "code",
   "execution_count": 22,
   "metadata": {
    "code_folding": []
   },
   "outputs": [
    {
     "data": {
      "text/html": [
       "<div>\n",
       "<style scoped>\n",
       "    .dataframe tbody tr th:only-of-type {\n",
       "        vertical-align: middle;\n",
       "    }\n",
       "\n",
       "    .dataframe tbody tr th {\n",
       "        vertical-align: top;\n",
       "    }\n",
       "\n",
       "    .dataframe thead th {\n",
       "        text-align: right;\n",
       "    }\n",
       "</style>\n",
       "<table border=\"1\" class=\"dataframe\">\n",
       "  <thead>\n",
       "    <tr style=\"text-align: right;\">\n",
       "      <th></th>\n",
       "      <th>Country Name</th>\n",
       "      <th>Armed forces personnel (% of total labor force)</th>\n",
       "      <th>Military expenditure (% of GDP)</th>\n",
       "      <th>GDP growth (annual %)</th>\n",
       "    </tr>\n",
       "    <tr>\n",
       "      <th>Country Code</th>\n",
       "      <th></th>\n",
       "      <th></th>\n",
       "      <th></th>\n",
       "      <th></th>\n",
       "    </tr>\n",
       "  </thead>\n",
       "  <tbody>\n",
       "    <tr>\n",
       "      <td>WLD</td>\n",
       "      <td>World</td>\n",
       "      <td>0.8</td>\n",
       "      <td>2.16</td>\n",
       "      <td>3.17</td>\n",
       "    </tr>\n",
       "  </tbody>\n",
       "</table>\n",
       "</div>"
      ],
      "text/plain": [
       "             Country Name  Armed forces personnel (% of total labor force)  \\\n",
       "Country Code                                                                 \n",
       "WLD                 World                                              0.8   \n",
       "\n",
       "              Military expenditure (% of GDP)  GDP growth (annual %)  \n",
       "Country Code                                                          \n",
       "WLD                                      2.16                   3.17  "
      ]
     },
     "execution_count": 22,
     "metadata": {},
     "output_type": "execute_result"
    }
   ],
   "source": [
    "# Get the row of World to compare the Military Strength\n",
    "world = wdiw.loc[[\"WLD\"],[\"Country Name\",\"Armed forces personnel (% of total labor force)\",\\\n",
    "                             \"Military expenditure (% of GDP)\",\"GDP growth (annual %)\"]].round(2)\n",
    "world"
   ]
  },
  {
   "cell_type": "code",
   "execution_count": 23,
   "metadata": {
    "code_folding": []
   },
   "outputs": [
    {
     "data": {
      "image/png": "[encoded data removed]",
      "text/plain": [
       "<Figure size 432x288 with 1 Axes>"
      ]
     },
     "metadata": {
      "needs_background": "light"
     },
     "output_type": "display_data"
    }
   ],
   "source": [
    "# Plot a bar graph with the variables and compare with the world\n",
    "\n",
    "military.iloc[:,1:4].plot.bar()\n",
    "\n",
    "plt.axhline(y=0.8, color='blue', linestyle='dotted')\n",
    "plt.axhline(y=2.16, color='orange', linestyle='dotted')\n",
    "plt.axhline(y=3.17, color='green', linestyle='dotted')\n",
    "plt.xticks(rotation = 70)\n",
    "plt.title(\"Military Strength/Strategies\")\n",
    "\n",
    "plt.savefig(\"Military Strength.png\")\n",
    "plt.show()"
   ]
  },
  {
   "cell_type": "markdown",
   "metadata": {},
   "source": [
    "#### Insights:\n",
    "\n",
    "Now, we can subset world and plot the bar graph with the variables and add horizontal axis lines that give the values of the world. The lines have the same color code.\n",
    "\n",
    "We can observe that Military Strength of a country has great association with GDP Growth.\n",
    "\n",
    "Through external research to help validate our analysis we can conclude military strength has a Key Relation with Economic Growth\n",
    "\n",
    "#### External research:\n",
    "   1. Military Expenditure leads to decrease in GDP Growth\n",
    "   2. United States considers spending on military more that the world average, at the expense of lowering GDP.\n",
    "   3. Smaller countries consider military expense unnecessary. Some distrust and also consider it a National Pride as a symbol of peace.  \n",
    "   4. Smaller countries are supported by temporary military from other countries when needed.  \n",
    "   5. Panama and Costa Rica demilitarized and do not have military spending after United States invasion and Internal conflicts respectively.\n",
    "   6. Bermuda is supported by U.K and they only have a single military unit, The Bermuda Regiment.\n",
    "   7. The Caribbean region is doing well in terms of Economic Development but they are prone to natural disasters where soldiers play a crucial role.\n",
    "   8. Latin America and parts of Central America face the growing drug trafficking which lead to a lot of money laundering.\n",
    "       Ex: Issues like Panama not allowing U.S military to take base and fight against drug trafficking.\n",
    "\n",
    "Source:\n",
    "\n",
    "[Belize military support on natural disasters](https://insidedio.blog.gov.uk/2019/09/03/tropical-alliance-responding-to-an-environmental-and-mass-casualty-disaster-in-belize/)<br></br>\n",
    "[Demilitarization in Costa Rica and Panama due to distrust on military and recognized as a National Pride towards Peace](https://www.npr.org/2014/06/21/324057374/having-an-army-might-be-practical-but-its-not-obligatory)<br></br>\n",
    "[Drug Trafficking in Latin America](https://latinamericanpost.com/20104-drug-trafficking--the-growing-latin-american-business)"
   ]
  },
  {
   "cell_type": "markdown",
   "metadata": {},
   "source": [
    "### Employment\n",
    "This analysis is to look into the spread of different employment industries and the effects of the working population on the labor force."
   ]
  },
  {
   "cell_type": "code",
   "execution_count": 24,
   "metadata": {
    "code_folding": []
   },
   "outputs": [
    {
     "name": "stdout",
     "output_type": "stream",
     "text": [
      "              Age dependency ratio (% of working-age population)  \\\n",
      "Country Code                                                       \n",
      "BLZ                                                   55.085473    \n",
      "BMU                                                   49.300000    \n",
      "CAN                                                   48.616079    \n",
      "CRI                                                   44.566920    \n",
      "SLV                                                   55.159853    \n",
      "GTM                                                   65.967416    \n",
      "HND                                                   58.493475    \n",
      "MEX                                                   51.469241    \n",
      "NIC                                                   55.281150    \n",
      "PAN                                                   54.438715    \n",
      "USA                                                   52.155805    \n",
      "\n",
      "              Age dependency ratio, old (% of working-age population)  \\\n",
      "Country Code                                                            \n",
      "BLZ                                                    7.158540         \n",
      "BMU                                                   22.500000         \n",
      "CAN                                                   25.030652         \n",
      "CRI                                                   13.373178         \n",
      "SLV                                                   12.575262         \n",
      "GTM                                                    7.794356         \n",
      "HND                                                    7.228614         \n",
      "MEX                                                   10.664602         \n",
      "NIC                                                    7.845245         \n",
      "PAN                                                   12.215968         \n",
      "USA                                                   23.461460         \n",
      "\n",
      "              Age dependency ratio, young (% of working-age population)  \n",
      "Country Code                                                             \n",
      "BLZ                                                   47.930000          \n",
      "BMU                                                   26.800000          \n",
      "CAN                                                   23.580000          \n",
      "CRI                                                   13.373178          \n",
      "SLV                                                   31.190000          \n",
      "GTM                                                   42.580000          \n",
      "HND                                                   58.170000          \n",
      "MEX                                                   51.260000          \n",
      "NIC                                                   40.800000          \n",
      "PAN                                                   47.440000          \n",
      "USA                                                   42.220000          \n"
     ]
    }
   ],
   "source": [
    "#Display Age Dependency Columns\n",
    "agedep_ratio = hot_rod.loc[: ,['Age dependency ratio (% of working-age population)',\n",
    "                               'Age dependency ratio, old (% of working-age population)',\n",
    "                               'Age dependency ratio, young (% of working-age population)']]\n",
    "print(agedep_ratio)"
   ]
  },
  {
   "cell_type": "markdown",
   "metadata": {},
   "source": [
    "**Age Dependency**\n",
    "\n",
    "Age dependency ratio is the ratio of people younger than 15 and older than 64 versus the working age population. In essence, this metric gives us an overview of the number of employed people supporting non-working people. To compute for ratio, we get the total number of dependents divided by the number of working population, multiplied by 100."
   ]
  },
  {
   "cell_type": "code",
   "execution_count": 25,
   "metadata": {
    "code_folding": []
   },
   "outputs": [
    {
     "name": "stdout",
     "output_type": "stream",
     "text": [
      "       Age dependency ratio (% of working-age population)  \\\n",
      "count                                          11.000000    \n",
      "mean                                           53.684921    \n",
      "std                                             5.626198    \n",
      "min                                            44.566920    \n",
      "25%                                            50.384621    \n",
      "50%                                            54.438715    \n",
      "75%                                            55.220502    \n",
      "max                                            65.967416    \n",
      "\n",
      "       Age dependency ratio, old (% of working-age population)  \\\n",
      "count                                          11.000000         \n",
      "mean                                           13.622534         \n",
      "std                                             6.838538         \n",
      "min                                             7.158540         \n",
      "25%                                             7.819800         \n",
      "50%                                            12.215968         \n",
      "75%                                            17.936589         \n",
      "max                                            25.030652         \n",
      "\n",
      "       Age dependency ratio, young (% of working-age population)  \n",
      "count                                          11.000000          \n",
      "mean                                           38.667562          \n",
      "std                                            13.410185          \n",
      "min                                            13.373178          \n",
      "25%                                            28.995000          \n",
      "50%                                            42.220000          \n",
      "75%                                            47.685000          \n",
      "max                                            58.170000          \n"
     ]
    },
    {
     "data": {
      "image/png": "[encoded data removed]",
      "text/plain": [
       "<Figure size 432x288 with 1 Axes>"
      ]
     },
     "metadata": {
      "needs_background": "light"
     },
     "output_type": "display_data"
    }
   ],
   "source": [
    "#Describe Columns and Check\n",
    "print(agedep_ratio.describe())\n",
    "agedep_ratio.plot.bar(legend=None)\n",
    "plt.axhline(y=54, color='blue', linestyle='dotted')\n",
    "plt.axhline(y=13, color='orange', linestyle='dotted')\n",
    "plt.axhline(y=40, color='green', linestyle='dotted')\n",
    "plt.ylabel('Percentage of working population')\n",
    "plt.show()"
   ]
  },
  {
   "cell_type": "code",
   "execution_count": 26,
   "metadata": {
    "code_folding": []
   },
   "outputs": [
    {
     "data": {
      "text/plain": [
       "[Text(0, 0, 'Age Dependency Ratio'),\n",
       " Text(0, 0, 'Age Dependency Ratio (Old)'),\n",
       " Text(0, 0, 'Age Dependency Ratio (Young)')]"
      ]
     },
     "execution_count": 26,
     "metadata": {},
     "output_type": "execute_result"
    },
    {
     "data": {
      "image/png": "[encoded data removed]",
      "text/plain": [
       "<Figure size 648x432 with 1 Axes>"
      ]
     },
     "metadata": {
      "needs_background": "light"
     },
     "output_type": "display_data"
    }
   ],
   "source": [
    "# Create a figure instance\n",
    "age_fig = plt.figure(1, figsize=(9, 6))\n",
    "\n",
    "# Create an axes instance\n",
    "age_ax = age_fig.add_subplot(111)\n",
    "\n",
    "# Create the boxplot\n",
    "sns.boxplot(data = agedep_ratio)\n",
    "\n",
    "#Label the axes\n",
    "age_ax.set_xticklabels(['Age Dependency Ratio', 'Age Dependency Ratio (Old)', 'Age Dependency Ratio (Young)'])"
   ]
  },
  {
   "cell_type": "markdown",
   "metadata": {},
   "source": [
    "#### Insights:\n",
    "Generally, all countries in the region have a relatively high age dependency ratio. An outlier to take note of is Guatemala, who is seen as the highest at 66%. When we take a further look, we can see that this was mainly due to the high number of people age < 15. Another observation are Canada and US where both have a high age dependency ratio for population ages 64 and above and low age dependency ratio for ages 15 and below. This can have a negative implication in the economy in the long run.\n",
    "\n",
    "##### Economical Implications in the long run:\n",
    " 1. As the non-working population increases, those who are working are likely subject to increased taxes to compensate for larger dependent population.\n",
    " 2. As the working population reaches retirement, savings increase, and in turn, decrease long-term interest rates.\n",
    " 3. When there is a growing labor force, housing prices increase.\n",
    " 4. However, if savings decrease, fewer funds are allocated to finance investment projects such as housing, and eventually decreases investment in physical capital.\n",
    " 5. Consumption patterns also change. An increase in the elderly population influences consumption from certain goods towards healthcare services and leisure.\n",
    " 6. Most importantly, if there is an increase in the elderly population, chances are fertility rates will decrease and eventually labor force, thus leading to lower economic growth."
   ]
  },
  {
   "cell_type": "code",
   "execution_count": 27,
   "metadata": {
    "code_folding": []
   },
   "outputs": [
    {
     "name": "stdout",
     "output_type": "stream",
     "text": [
      "              GDP growth (annual %)  \\\n",
      "Country Code                          \n",
      "BLZ                        1.437289   \n",
      "BMU                        2.500000   \n",
      "CAN                        2.978566   \n",
      "CRI                        3.397182   \n",
      "SLV                        2.307939   \n",
      "GTM                        2.760338   \n",
      "HND                        4.788027   \n",
      "MEX                        2.069715   \n",
      "NIC                        4.675475   \n",
      "PAN                        5.321230   \n",
      "USA                        2.217010   \n",
      "\n",
      "              Age dependency ratio (% of working-age population)  \n",
      "Country Code                                                      \n",
      "BLZ                                                   55.085473   \n",
      "BMU                                                   49.300000   \n",
      "CAN                                                   48.616079   \n",
      "CRI                                                   44.566920   \n",
      "SLV                                                   55.159853   \n",
      "GTM                                                   65.967416   \n",
      "HND                                                   58.493475   \n",
      "MEX                                                   51.469241   \n",
      "NIC                                                   55.281150   \n",
      "PAN                                                   54.438715   \n",
      "USA                                                   52.155805   \n"
     ]
    },
    {
     "data": {
      "text/plain": [
       "<matplotlib.axes._subplots.AxesSubplot at 0x1dc4ea5a518>"
      ]
     },
     "execution_count": 27,
     "metadata": {},
     "output_type": "execute_result"
    },
    {
     "data": {
      "image/png": "[encoded data removed]",
      "text/plain": [
       "<Figure size 432x288 with 1 Axes>"
      ]
     },
     "metadata": {
      "needs_background": "light"
     },
     "output_type": "display_data"
    }
   ],
   "source": [
    "#Age Dependency Ratio Vs. GDP\n",
    "gdp_agedep = hot_rod.loc[:,['GDP growth (annual %)','Age dependency ratio (% of working-age population)']]\n",
    "\n",
    "print(gdp_agedep)\n",
    "gdp_agedep.plot.bar()"
   ]
  },
  {
   "cell_type": "markdown",
   "metadata": {},
   "source": [
    "**Employment by Sector**\n",
    "\n",
    "In this section, we will be taking a look at three types of employment: agriculture, industry and in services. Agriculture consists of activities agriculture, forestry, hunting and fishing. The industry sector consists of activities mining, manufacturing, construction and public utilities. Lastly, the services sector consists of wholesale, retail trade, restaurants and hotels, transportation, real estate, and many more."
   ]
  },
  {
   "cell_type": "code",
   "execution_count": 28,
   "metadata": {
    "code_folding": [
     2
    ]
   },
   "outputs": [
    {
     "name": "stdout",
     "output_type": "stream",
     "text": [
      "              Employment in agriculture (% of total employment) (modeled ILO estimate)  \\\n",
      "Country Code                                                                             \n",
      "BLZ                                                   17.733000                          \n",
      "BMU                                                         NaN                          \n",
      "CAN                                                    1.518000                          \n",
      "CRI                                                   12.580000                          \n",
      "SLV                                                   18.575001                          \n",
      "GTM                                                   29.316000                          \n",
      "HND                                                   31.985001                          \n",
      "MEX                                                   13.118000                          \n",
      "NIC                                                   31.091000                          \n",
      "PAN                                                   14.494000                          \n",
      "USA                                                    1.435000                          \n",
      "\n",
      "              Employment in industry (% of total employment) (modeled ILO estimate)  \\\n",
      "Country Code                                                                          \n",
      "BLZ                                                   14.657000                       \n",
      "BMU                                                   10.300000                       \n",
      "CAN                                                   19.528000                       \n",
      "CRI                                                   18.450001                       \n",
      "SLV                                                   21.886000                       \n",
      "GTM                                                   20.898001                       \n",
      "HND                                                   20.683001                       \n",
      "MEX                                                   26.013000                       \n",
      "NIC                                                   16.938999                       \n",
      "PAN                                                   18.549000                       \n",
      "USA                                                   19.729000                       \n",
      "\n",
      "              Employment in services (% of total employment) (modeled ILO estimate)  \n",
      "Country Code                                                                         \n",
      "BLZ                                                   67.609001                      \n",
      "BMU                                                   87.650000                      \n",
      "CAN                                                   78.955002                      \n",
      "CRI                                                   68.970001                      \n",
      "SLV                                                   59.540001                      \n",
      "GTM                                                   49.785999                      \n",
      "HND                                                   47.332001                      \n",
      "MEX                                                   60.869999                      \n",
      "NIC                                                   51.970001                      \n",
      "PAN                                                   66.956001                      \n",
      "USA                                                   78.835999                      \n"
     ]
    },
    {
     "data": {
      "text/plain": [
       "Text(0, 0.5, '% of total employment')"
      ]
     },
     "execution_count": 28,
     "metadata": {},
     "output_type": "execute_result"
    },
    {
     "data": {
      "image/png": "[encoded data removed]",
      "text/plain": [
       "<Figure size 432x288 with 1 Axes>"
      ]
     },
     "metadata": {
      "needs_background": "light"
     },
     "output_type": "display_data"
    }
   ],
   "source": [
    "#Create a bar plot to compare different industrys in employment\n",
    "employ_to_plot = hot_rod.loc[:,\n",
    "                        ['Employment in agriculture (% of total employment) (modeled ILO estimate)',\n",
    "                         'Employment in industry (% of total employment) (modeled ILO estimate)',\n",
    "                         'Employment in services (% of total employment) (modeled ILO estimate)']]\n",
    "print(employ_to_plot)\n",
    "employ_to_plot.plot.bar(legend=None)\n",
    "plt.axhline(y=28, color='blue', linestyle='dotted')\n",
    "plt.axhline(y=23, color='orange', linestyle='dotted')\n",
    "plt.axhline(y=49, color='green', linestyle='dotted')\n",
    "plt.ylabel('% of total employment')"
   ]
  },
  {
   "cell_type": "code",
   "execution_count": 29,
   "metadata": {
    "code_folding": []
   },
   "outputs": [
    {
     "data": {
      "text/plain": [
       "[Text(0, 0, 'Employment by Agriculture'),\n",
       " Text(0, 0, 'Employment by Industry'),\n",
       " Text(0, 0, 'Employment by Services')]"
      ]
     },
     "execution_count": 29,
     "metadata": {},
     "output_type": "execute_result"
    },
    {
     "data": {
      "image/png": "[encoded data removed]",
      "text/plain": [
       "<Figure size 648x432 with 1 Axes>"
      ]
     },
     "metadata": {
      "needs_background": "light"
     },
     "output_type": "display_data"
    }
   ],
   "source": [
    "# Create a figure instance\n",
    "employ_fig = plt.figure(1, figsize=(9, 6))\n",
    "\n",
    "# Create an axes instance\n",
    "employ_ax = employ_fig.add_subplot(111)\n",
    "\n",
    "# Create the boxplot\n",
    "sns.boxplot(data = employ_to_plot)\n",
    "\n",
    "#Label the axes\n",
    "employ_ax.set_xticklabels(['Employment by Agriculture', 'Employment by Industry', 'Employment by Services'])"
   ]
  },
  {
   "cell_type": "markdown",
   "metadata": {},
   "source": [
    "#### Insights\n",
    "\n",
    "Taking a look at the graphs, all have a relatively high employment percentage in the services sector compared to agriculture and industry. One of the outliers we can see is Mexico’s high industrial activities. In the recent years, the government has been making initiatives to reinvigorate its economy by shifting towards more complex commodities such as automobiles and airplanes. Doing so attracts domestic and foreign companies to take root. Among the lowest in agriculture are country giants US and Canada. Both have vast land yet lack to fill the labor needs. For agriculture, on the other hand, Bermuda has no data. The country is prone to severe weather (lies in the hurricane belt), thus industrial and agricultural activities are limited and rely heavily on imports instead.\n",
    "\n",
    "#### Where does Latin America’s growth come from?\n",
    " 1. Latin America’s growth is growing faster than Asia\n",
    " 2. Almost 80 percent of Latin America’s GDP growth over the past 15 years has come from strong labor inputs reflecting growing populations rather than rising productivity.\n",
    " 3. Falling fertility rates will undermine employment-led growth. The end of the commodity-price boom that has helped fuel the region’s growth is another concern. \n",
    " 4. In addition, there is a risk of increased protectionism that could weaken the exports component of growth. \n",
    " 5. In the perspective of the US, their growth is a huge opportunity for trade and exports.\n",
    "\n",
    "Source:\n",
    "\n",
    "[Mexico’s growing labor force](https://napsintl.com/mexico-manufacturing-news/the-growing-labor-force-in-mexico/)<br></br>\n",
    "[McKinsey Source](https://www.mckinsey.com/~/media/mckinsey/featured%20insights/employment%20and%20growth/how%20to%20counter%20three%20threats%20to%20growth%20in%20latin%20america/mgi-discussion-paper-where-will-latin-americas-growth-come-from-april-2017.ashx)<br></br>\n",
    "[NEWS Source, Forbes](https://www.forbes.com/sites/kenrapoza/2019/03/27/latin-america-economy-now-growing-faster-than-asias/#7b25140d1a76)<br></br>\n",
    "[US industries and immigrants](https://www.cbsnews.com/news/illegal-immigrants-us-jobs-economy-farm-workers-taxes/)<br></br>\n",
    "[Canada’s agricultural labor shortage](https://modernfarmer.com/2019/07/canada-has-a-huge-agricultural-labor-shortage/)\n"
   ]
  },
  {
   "cell_type": "markdown",
   "metadata": {},
   "source": [
    "### GDP (Economy)\n",
    "This analysis is to look into GDP growth and the influence on population, and how different the construction industry affects the overall gdp of a country."
   ]
  },
  {
   "cell_type": "code",
   "execution_count": 30,
   "metadata": {
    "code_folding": [
     1,
     2,
     5
    ]
   },
   "outputs": [
    {
     "data": {
      "text/plain": [
       "[Text(0.5, 0, 'Population growth (annual %)'),\n",
       " Text(1.5, 0, 'Urban population growth (annual %)'),\n",
       " Text(2.5, 0, 'GDP growth (annual %)')]"
      ]
     },
     "execution_count": 30,
     "metadata": {},
     "output_type": "execute_result"
    },
    {
     "data": {
      "image/png": "[encoded data removed]",
      "text/plain": [
       "<Figure size 432x288 with 2 Axes>"
      ]
     },
     "metadata": {
      "needs_background": "light"
     },
     "output_type": "display_data"
    }
   ],
   "source": [
    "#Develop a correlation heatmap to understand if there is a relationship between population growth and gdp growth\n",
    "growth_rate = hot_rod.loc[:,\n",
    "                        ['Population growth (annual %)',\n",
    "                         'Urban population growth (annual %)',\n",
    "                        'GDP growth (annual %)']].corr()\n",
    "growth_labels = ['Population growth (annual %)',\n",
    "                         'Urban population growth (annual %)',\n",
    "                        'GDP growth (annual %)']\n",
    "sns.heatmap(growth_rate, cmap=\"Greens\", vmin=0, vmax=1).set_xticklabels(growth_labels,rotation=45, horizontalalignment='right')"
   ]
  },
  {
   "cell_type": "markdown",
   "metadata": {},
   "source": [
    "Labor is a factor of production, and increase in labor force is due to the increase in population, then this may lead to increase in GDP,\n",
    "\n",
    "This is not always the case due to the following reasons:\n",
    "\n",
    "    1. Youth, working class and old people in population differ so the population growth doesn’t correlate with GDP Growth.\n",
    "    2. There could be unemployment and social conflicts.\n",
    "    3. There could be natural disasters that affect the GDP.\n",
    "\n",
    "Therefore, we are drawn to a conclusion that we need to find the major driver that has a significant influence on the GDP of countries in our region."
   ]
  },
  {
   "cell_type": "markdown",
   "metadata": {},
   "source": [
    "### Poverty\n",
    "This analysis is to look into the quality of health and poverty in a few countries. Lack of data from a majority of countries resulted in us focusing only on the countries that we had data on and compared them to each other to get a basic understanding on the situation."
   ]
  },
  {
   "cell_type": "code",
   "execution_count": 31,
   "metadata": {
    "code_folding": [
     1
    ]
   },
   "outputs": [
    {
     "data": {
      "image/png": "[encoded data removed]",
      "text/plain": [
       "<Figure size 432x288 with 1 Axes>"
      ]
     },
     "metadata": {
      "needs_background": "light"
     },
     "output_type": "display_data"
    }
   ],
   "source": [
    "# Visualizing the relationship between Prevalence of undernourishment and Prevalence of HIV, total\n",
    "plt.scatter(x = 'Prevalence of undernourishment (% of population)',\n",
    "            y = 'Prevalence of HIV, total (% of population ages 15-49)',\n",
    "            alpha = 0.5,\n",
    "            cmap = 'bwr',\n",
    "            data = hot_rod)\n",
    "\n",
    "plt.savefig('HIV_undernourishment.png')\n",
    "plt.show()"
   ]
  },
  {
   "cell_type": "code",
   "execution_count": 32,
   "metadata": {
    "code_folding": []
   },
   "outputs": [
    {
     "data": {
      "image/png": "[encoded data removed]",
      "text/plain": [
       "<Figure size 432x288 with 1 Axes>"
      ]
     },
     "metadata": {
      "needs_background": "light"
     },
     "output_type": "display_data"
    }
   ],
   "source": [
    "# Visualizing the relationship between Poverty headcount ratio at national poverty lines and Prevalence of HIV, total\n",
    "plt.scatter(x = 'Poverty headcount ratio at national poverty lines (% of population)',\n",
    "            y = 'Prevalence of HIV, total (% of population ages 15-49)',\n",
    "            alpha = 0.5,\n",
    "            cmap = 'bwr',\n",
    "            data = hot_rod)\n",
    "\n",
    "plt.savefig('HIV_headcountratio.png')\n",
    "plt.show()"
   ]
  },
  {
   "cell_type": "code",
   "execution_count": 33,
   "metadata": {
    "code_folding": [
     1
    ]
   },
   "outputs": [
    {
     "name": "stdout",
     "output_type": "stream",
     "text": [
      "              Prevalence of undernourishment (% of population)  \\\n",
      "Country Code                                                     \n",
      "BLZ                                                        7.5   \n",
      "BMU                                                        NaN   \n",
      "CAN                                                        2.5   \n",
      "CRI                                                        4.8   \n",
      "SLV                                                        9.0   \n",
      "GTM                                                       15.2   \n",
      "HND                                                       12.9   \n",
      "MEX                                                        3.6   \n",
      "NIC                                                       17.0   \n",
      "PAN                                                       10.0   \n",
      "USA                                                        2.5   \n",
      "\n",
      "              Prevalence of HIV, total (% of population ages 15-49)  \n",
      "Country Code                                                         \n",
      "BLZ                                                         1.9      \n",
      "BMU                                                         NaN      \n",
      "CAN                                                         NaN      \n",
      "CRI                                                         0.4      \n",
      "SLV                                                         0.6      \n",
      "GTM                                                         0.4      \n",
      "HND                                                         0.3      \n",
      "MEX                                                         0.2      \n",
      "NIC                                                         0.2      \n",
      "PAN                                                         0.9      \n",
      "USA                                                         NaN      \n",
      "AxesSubplot(0.125,0.125;0.775x0.755)\n"
     ]
    },
    {
     "data": {
      "image/png": "[encoded data removed]",
      "text/plain": [
       "<Figure size 432x288 with 1 Axes>"
      ]
     },
     "metadata": {
      "needs_background": "light"
     },
     "output_type": "display_data"
    }
   ],
   "source": [
    "#Display Undernourishment vs HIV\n",
    "Undernourishment_HIV = hot_rod.loc[: ,['Prevalence of undernourishment (% of population)',\n",
    "                               'Prevalence of HIV, total (% of population ages 15-49)']]\n",
    "print(Undernourishment_HIV)\n",
    "\n",
    "#Graph Undernourishment vs HIV\n",
    "\n",
    "print(Undernourishment_HIV.plot.bar())"
   ]
  },
  {
   "cell_type": "code",
   "execution_count": 34,
   "metadata": {
    "code_folding": [
     1
    ]
   },
   "outputs": [
    {
     "name": "stdout",
     "output_type": "stream",
     "text": [
      "              Prevalence of undernourishment (% of population)  \\\n",
      "Country Code                                                     \n",
      "CRI                                                        4.8   \n",
      "SLV                                                        9.0   \n",
      "HND                                                       12.9   \n",
      "\n",
      "              Poverty headcount ratio at national poverty lines (% of population)  \n",
      "Country Code                                                                       \n",
      "CRI                                                        20.0                    \n",
      "SLV                                                        29.2                    \n",
      "HND                                                        64.3                    \n",
      "AxesSubplot(0.125,0.125;0.775x0.755)\n"
     ]
    },
    {
     "data": {
      "image/png": "[encoded data removed]",
      "text/plain": [
       "<Figure size 432x288 with 1 Axes>"
      ]
     },
     "metadata": {
      "needs_background": "light"
     },
     "output_type": "display_data"
    }
   ],
   "source": [
    "#Display Undernourishment vs Poverty headcount ratio at national poverty lines\n",
    "Undernourishment_headcountratio = hot_rod.loc[['CRI','SLV','HND'] ,['Prevalence of undernourishment (% of population)',\n",
    "                               'Poverty headcount ratio at national poverty lines (% of population)']]\n",
    "print(Undernourishment_headcountratio)\n",
    "\n",
    "#Graph Undernourishment vs Poverty headcount ratio at national poverty lines\n",
    "print(Undernourishment_headcountratio.plot.bar())\n",
    "\n",
    "plt.savefig('Undernourishment_headcountratio.png')\n",
    "plt.show()"
   ]
  },
  {
   "cell_type": "code",
   "execution_count": 35,
   "metadata": {
    "code_folding": []
   },
   "outputs": [
    {
     "name": "stdout",
     "output_type": "stream",
     "text": [
      "              Prevalence of undernourishment (% of population)  \\\n",
      "Country Code                                                     \n",
      "CRI                                                        4.8   \n",
      "SLV                                                        9.0   \n",
      "HND                                                       12.9   \n",
      "\n",
      "              Poverty headcount ratio at national poverty lines (% of population)  \\\n",
      "Country Code                                                                        \n",
      "CRI                                                        20.0                     \n",
      "SLV                                                        29.2                     \n",
      "HND                                                        64.3                     \n",
      "\n",
      "              Poverty headcount ratio at $3.20 a day (2011 PPP) (% of population)  \\\n",
      "Country Code                                                                        \n",
      "CRI                                                         2.7                     \n",
      "SLV                                                         8.5                     \n",
      "HND                                                        31.6                     \n",
      "\n",
      "              Poverty headcount ratio at $1.90 a day (2011 PPP) (% of population)  \n",
      "Country Code                                                                       \n",
      "CRI                                                         1.0                    \n",
      "SLV                                                         1.9                    \n",
      "HND                                                        17.2                    \n",
      "AxesSubplot(0.125,0.125;0.775x0.755)\n"
     ]
    },
    {
     "data": {
      "image/png": "[encoded data removed]",
      "text/plain": [
       "<Figure size 432x288 with 1 Axes>"
      ]
     },
     "metadata": {
      "needs_background": "light"
     },
     "output_type": "display_data"
    }
   ],
   "source": [
    "#Display Undernourishment vs Poverty headcount ratio at national poverty lines\n",
    "\n",
    "Undernourishment_povertyratio = hot_rod.loc[['CRI','SLV','HND'] ,['Prevalence of undernourishment (% of population)',\n",
    "                               'Poverty headcount ratio at national poverty lines (% of population)', 'Poverty headcount ratio at $3.20 a day (2011 PPP) (% of population)', 'Poverty headcount ratio at $1.90 a day (2011 PPP) (% of population)' ]]\n",
    "print(Undernourishment_povertyratio)\n",
    "\n",
    "#Graph to analyze relationship between Undernourishment and Poverty headcount ratio at national poverty lines\n",
    "\n",
    "print(Undernourishment_povertyratio.plot.bar())\n",
    "\n",
    "\n",
    "plt.savefig('Undernourishment_povertyratio.png')\n",
    "plt.show()"
   ]
  },
  {
   "cell_type": "code",
   "execution_count": 36,
   "metadata": {
    "code_folding": []
   },
   "outputs": [
    {
     "name": "stdout",
     "output_type": "stream",
     "text": [
      "              Poverty headcount ratio at national poverty lines (% of population)\n",
      "Country Code                                                                     \n",
      "CRI                                                        20.0                  \n",
      "SLV                                                        29.2                  \n",
      "HND                                                        64.3                  \n",
      "AxesSubplot(0.125,0.125;0.775x0.755)\n"
     ]
    },
    {
     "data": {
      "image/png": "[encoded data removed]",
      "text/plain": [
       "<Figure size 432x288 with 1 Axes>"
      ]
     },
     "metadata": {
      "needs_background": "light"
     },
     "output_type": "display_data"
    }
   ],
   "source": [
    "#Display Prevalence of HIV vs Poverty headcount ratio at national poverty lines\n",
    "HIV_povertyratio = hot_rod.loc[['CRI','SLV','HND'] ,['Poverty headcount ratio at national poverty lines (% of population)']]\n",
    "print(HIV_povertyratio)\n",
    "\n",
    "#Graph to analyze relationship between HVI and Poverty headcount ratio at national poverty lines\n",
    "\n",
    "print(HIV_povertyratio.plot.bar())\n",
    "\n",
    "\n",
    "plt.savefig('HIV_povertyratio.png')\n",
    "plt.show()"
   ]
  },
  {
   "cell_type": "markdown",
   "metadata": {},
   "source": [
    "#### Insights:\n",
    "\n",
    "In Costa Rica, El Salvador and Honduras we can see a percentage of the population below minimum level of dietary energy consumption (prevalence of undernourishment) shows the percentage of the population whose food intake is insufficient to meet dietary energy requirements continuously. Data is showing that these three countries the people that lives with less than 3.2 and 1.9 USD is high, meaning that food intake is insufficient to meet dietary energy requirements. Honduras occupies the first place, then El Salvador and in the third position Costa Rica. Is consistent also with the GDP % of the countries.\n",
    " \n",
    "Also, we can see a positive association between HIV and undernourishment. The poorest countries reflect a high level of HIV as a % of the population."
   ]
  },
  {
   "cell_type": "markdown",
   "metadata": {},
   "source": [
    "## Key Insights\n",
    "After our exploration of the World Bank dataset our main findings are below"
   ]
  },
  {
   "cell_type": "markdown",
   "metadata": {},
   "source": [
    "1. Military Strength has a Key Relation with Economic Growth.\n",
    "2. Lack of access to healthcare professionals can have long term effects on adolescent girls giving birth.\n",
    "3. Size of a country does not affect the quality of health and life expectancy, poverty and rural areas does.\n",
    "4. There is a positive association between HIV and undernourishment.\n",
    "5. Age dependency implies economic effects: the older decreases growth, while the young immigrate to look for better opportunities.\n",
    "6. Issues such as immigration, in the case of the US, contribute to low recorded employment in the agriculture sector\n",
    "7. Latin America’s overall economic growth is beneficial for the US because of trade and exports, and the rest of the world."
   ]
  },
  {
   "cell_type": "markdown",
   "metadata": {},
   "source": [
    "~~~\n",
    "\n",
    " _______ _                 _                                               \n",
    " |__   __| |               | |                                              \n",
    "    | |  | |__   __ _ _ __ | | __  _   _  ___  _   _                        \n",
    "    | |  | '_ \\ / _` | '_ \\| |/ / | | | |/ _ \\| | | |                       \n",
    "    | |  | | | | (_| | | | |   <  | |_| | (_) | |_| |                       \n",
    "    |_|  |_| |_|\\__,_|_| |_|_|\\_\\  \\__, |\\___/ \\__,_|                       \n",
    "  _____            __               __/ |        _____ _                    \n",
    " |  __ \\          / _|             |___/        / ____| |                   \n",
    " | |__) | __ ___ | |_ ___  ___ ___  ___  _ __  | |    | |__   __ _ ___  ___ \n",
    " |  ___/ '__/ _ \\|  _/ _ \\/ __/ __|/ _ \\| '__| | |    | '_ \\ / _` / __|/ _ \\\n",
    " | |   | | | (_) | ||  __/\\__ \\__ \\ (_) | |    | |____| | | | (_| \\__ \\  __/\n",
    " |_|   |_|  \\___/|_| \\___||___/___/\\___/|_|     \\_____|_| |_|\\__,_|___/\\___|                                                                                   \n",
    "\n",
    "~~~      "
   ]
  },
  {
   "cell_type": "markdown",
   "metadata": {},
   "source": [
    "~~~\n",
    "\n",
    "  _______                     _____ \n",
    " |__   __|                   | ____|\n",
    "    | | ___  __ _ _ __ ___   | |__  \n",
    "    | |/ _ \\/ _` | '_ ` _ \\  |___ \\ \n",
    "    | |  __/ (_| | | | | | |  ___) |\n",
    "    |_|\\___|\\__,_|_| |_| |_| |____/ \n",
    "                                    \n",
    "~~~\n",
    "\n",
    "Jason Lee, Sharmaine Ysabel Aguilar, Arundhishaan Kanagaraja,  Abril Benhumea Flores,   & Bowen Zhang"
   ]
  },
  {
   "cell_type": "code",
   "execution_count": null,
   "metadata": {},
   "outputs": [],
   "source": []
  }
 ],
 "metadata": {
  "kernelspec": {
   "display_name": "Python 3",
   "language": "python",
   "name": "python3"
  },
  "language_info": {
   "codemirror_mode": {
    "name": "ipython",
    "version": 3
   },
   "file_extension": ".py",
   "mimetype": "text/x-python",
   "name": "python",
   "nbconvert_exporter": "python",
   "pygments_lexer": "ipython3",
   "version": "3.7.1"
  },
  "toc": {
   "base_numbering": 1,
   "nav_menu": {},
   "number_sections": true,
   "sideBar": true,
   "skip_h1_title": false,
   "title_cell": "Table of Contents",
   "title_sidebar": "Contents",
   "toc_cell": false,
   "toc_position": {},
   "toc_section_display": true,
   "toc_window_display": false
  },
  "varInspector": {
   "cols": {
    "lenName": 16,
    "lenType": 16,
    "lenVar": 40
   },
   "kernels_config": {
    "python": {
     "delete_cmd_postfix": "",
     "delete_cmd_prefix": "del ",
     "library": "var_list.py",
     "varRefreshCmd": "print(var_dic_list())"
    },
    "r": {
     "delete_cmd_postfix": ") ",
     "delete_cmd_prefix": "rm(",
     "library": "var_list.r",
     "varRefreshCmd": "cat(var_dic_list()) "
    }
   },
   "types_to_exclude": [
    "module",
    "function",
    "builtin_function_or_method",
    "instance",
    "_Feature"
   ],
   "window_display": false
  }
 },
 "nbformat": 4,
 "nbformat_minor": 2
}
